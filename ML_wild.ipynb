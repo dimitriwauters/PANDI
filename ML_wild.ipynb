{
 "cells": [
  {
   "cell_type": "code",
   "execution_count": null,
   "id": "21bf58f7",
   "metadata": {
    "execution": {
     "iopub.execute_input": "2023-06-30T09:52:58.717010Z",
     "iopub.status.busy": "2023-06-30T09:52:58.716788Z",
     "iopub.status.idle": "2023-06-30T09:53:00.162247Z",
     "shell.execute_reply": "2023-06-30T09:53:00.161326Z"
    }
   },
   "outputs": [],
   "source": [
    "import numpy as np\n",
    "import matplotlib.pyplot as plt\n",
    "from sklearn.tree import DecisionTreeClassifier, plot_tree\n",
    "from sklearn.ensemble import RandomForestClassifier, GradientBoostingClassifier\n",
    "from sklearn.model_selection import GridSearchCV, StratifiedKFold, StratifiedShuffleSplit, train_test_split\n",
    "from sklearn.metrics import balanced_accuracy_score, f1_score, precision_score, recall_score, classification_report\n",
    "import sys\n",
    "import pandas as pd\n",
    "import shap\n",
    "\n",
    "name = \"wild\"\n",
    "with open(\"features/features_\" + name + \".csv\", \"r\") as f:\n",
    "  line = f.readline()\n",
    "  feature_names = line.split(\",\")\n",
    "  feature_names.pop(0)\n",
    "\n",
    "data = pd.read_csv(\"features/features_\" + name + \".csv\")\n",
    "labels = pd.read_csv(\"labels/labels_\" + name + \".csv\",header=None, names=['name', 'label'])\n",
    "data = data.merge(labels, on='name')\n",
    "names = data.loc[:,\"name\"]\n",
    "y = data.loc[:,\"label\"]\n",
    "X = data.drop([\"name\",\"label\",\"write_execute_size\"], axis = 1)\n",
    "\n",
    "sss = StratifiedShuffleSplit(n_splits=1, test_size=0.3, random_state=0)\n",
    "for train_index, test_index in sss.split(X, y):\n",
    "    X_train, X_test = X.iloc[train_index], X.iloc[test_index]\n",
    "    y_train, y_test = y.iloc[train_index], y.iloc[test_index]"
   ]
  },
  {
   "cell_type": "code",
   "execution_count": null,
   "id": "f79517e7",
   "metadata": {
    "execution": {
     "iopub.execute_input": "2023-06-30T09:53:00.165662Z",
     "iopub.status.busy": "2023-06-30T09:53:00.165400Z",
     "iopub.status.idle": "2023-06-30T09:53:26.552568Z",
     "shell.execute_reply": "2023-06-30T09:53:26.551505Z"
    }
   },
   "outputs": [],
   "source": [
    "param_grid =  {\"criterion\": [\"gini\",\"entropy\"],\"min_samples_leaf\":[2,3,4,5,6,7,8,9,10,11,12],\"max_depth\":[1,2,3,4,5,6,7,8,9,10,11,12]}\n",
    "dt = DecisionTreeClassifier(random_state=0)\n",
    "cv = StratifiedKFold(n_splits=10)\n",
    "search = GridSearchCV(estimator=dt, param_grid=param_grid, cv = cv, scoring = \"balanced_accuracy\", n_jobs = -1)\n",
    "search.fit(X_train, y_train)\n",
    "\n",
    "print(\n",
    "    \"The best parameters are %s with a score of %0.5f in training and a score of %0.5f in testing\"\n",
    "    % (search.best_params_, search.best_score_,search.best_estimator_.score(X_test,y_test))\n",
    ")\n",
    "model1 = search.best_estimator_\n",
    "y_pred = model1.predict(X_test)\n",
    "print(\n",
    "    \"The F1-score is %0.5f\"\n",
    "    % (f1_score(y_test,y_pred))\n",
    ")\n",
    "print(\n",
    "    \"The balance accuracy is %0.5f\"\n",
    "    % (balanced_accuracy_score(y_test,y_pred))\n",
    ")\n",
    "print(\n",
    "    \"The precision is %0.5f\"\n",
    "    % (precision_score(y_test,y_pred))\n",
    ")\n",
    "print(\n",
    "    \"The recall is %0.5f\"\n",
    "    % (recall_score(y_test,y_pred))\n",
    ")\n",
    "print(classification_report(y_test,y_pred))"
   ]
  },
  {
   "cell_type": "code",
   "execution_count": null,
   "id": "de3098df",
   "metadata": {
    "execution": {
     "iopub.execute_input": "2023-06-30T09:53:26.574317Z",
     "iopub.status.busy": "2023-06-30T09:53:26.574068Z",
     "iopub.status.idle": "2023-06-30T09:53:27.558727Z",
     "shell.execute_reply": "2023-06-30T09:53:27.557671Z"
    }
   },
   "outputs": [],
   "source": [
    "explainer = shap.Explainer(model1)\n",
    "shap_obj = explainer(X_train)\n",
    "shap_values = explainer.shap_values(X_train)\n",
    "\n",
    "shap.summary_plot(shap_values, features = X_train,feature_names=feature_names,show=False)\n",
    "plt.savefig(\"figures/\"+name+\"_fig1.pdf\", format=\"pdf\", bbox_inches=\"tight\")\n",
    "plt.show()"
   ]
  },
  {
   "cell_type": "code",
   "execution_count": null,
   "id": "7836f94b",
   "metadata": {
    "execution": {
     "iopub.execute_input": "2023-06-30T09:53:27.561924Z",
     "iopub.status.busy": "2023-06-30T09:53:27.561660Z",
     "iopub.status.idle": "2023-06-30T10:18:57.129711Z",
     "shell.execute_reply": "2023-06-30T10:18:57.128541Z"
    }
   },
   "outputs": [],
   "source": [
    "param_grid =  {\"criterion\": [\"gini\",\"entropy\"],\"min_samples_leaf\":[2,3,4,5,6,7,8,9,10,11,12],\"max_depth\":[1,2,3,4,5,6,7,8,9,10,11,12],\"n_estimators\" : [i for i in range(10,40)]}\n",
    "rf = RandomForestClassifier(random_state = 0)\n",
    "cv = StratifiedKFold(n_splits=10)\n",
    "search = GridSearchCV(estimator=rf, param_grid=param_grid, cv = cv, scoring = \"balanced_accuracy\", n_jobs = -1)\n",
    "search.fit(X_train, y_train)\n",
    "print(\n",
    "    \"The best parameters are %s with a score of %0.5f in training and a score of %0.5f in testing\"\n",
    "    % (search.best_params_, search.best_score_,search.best_estimator_.score(X_test,y_test))\n",
    ")\n",
    "model2 = search.best_estimator_\n",
    "y_pred = model2.predict(X_test)\n",
    "print(\n",
    "    \"The F1-score is %0.5f\"\n",
    "    % (f1_score(y_test,y_pred))\n",
    ")\n",
    "print(\n",
    "    \"The balance accuracy is %0.5f\"\n",
    "    % (balanced_accuracy_score(y_test,y_pred))\n",
    ")\n",
    "print(\n",
    "    \"The precision is %0.5f\"\n",
    "    % (precision_score(y_test,y_pred))\n",
    ")\n",
    "print(\n",
    "    \"The recall is %0.5f\"\n",
    "    % (recall_score(y_test,y_pred))\n",
    ")\n",
    "print(classification_report(y_test,y_pred))"
   ]
  },
  {
   "cell_type": "code",
   "execution_count": null,
   "id": "1a048d38",
   "metadata": {
    "execution": {
     "iopub.execute_input": "2023-06-30T10:18:57.151770Z",
     "iopub.status.busy": "2023-06-30T10:18:57.150902Z",
     "iopub.status.idle": "2023-06-30T10:19:02.730288Z",
     "shell.execute_reply": "2023-06-30T10:19:02.729671Z"
    }
   },
   "outputs": [],
   "source": [
    "explainer = shap.Explainer(model2)\n",
    "shap_obj = explainer(X_train)\n",
    "shap_values = explainer.shap_values(X_train)\n",
    "\n",
    "shap.summary_plot(shap_values, features = X_train,feature_names=feature_names,show=False)\n",
    "plt.savefig(\"figures/\"+name+\"_fig2.pdf\", format=\"pdf\", bbox_inches=\"tight\")\n",
    "plt.show()"
   ]
  },
  {
   "cell_type": "code",
   "execution_count": null,
   "id": "de02d1a3",
   "metadata": {
    "execution": {
     "iopub.execute_input": "2023-06-30T10:19:02.733901Z",
     "iopub.status.busy": "2023-06-30T10:19:02.733168Z",
     "iopub.status.idle": "2023-06-30T20:33:10.496593Z",
     "shell.execute_reply": "2023-06-30T20:33:10.495585Z"
    }
   },
   "outputs": [],
   "source": [
    "param_grid = {\"criterion\":[\"friedman_mse\",\"squared_error\"],\"loss\": [\"log_loss\",\"exponential\"],\"min_samples_leaf\":[2,3,4,5,6,7,8,9,10,11,12],\"max_depth\":[1,2,3,4,5,6,7,8,9,10,11,12],\"n_estimators\" : [i for i in range(10,40)]}\n",
    "gbdt = GradientBoostingClassifier(random_state = 0)\n",
    "cv = StratifiedKFold(n_splits=10)\n",
    "search = GridSearchCV(estimator=gbdt, param_grid=param_grid, cv = cv, scoring = \"balanced_accuracy\", n_jobs = -1)\n",
    "search.fit(X_train, y_train)\n",
    "print(\n",
    "    \"The best parameters are %s with a score of %0.5f in training and a score of %0.5f in testing\"\n",
    "    % (search.best_params_, search.best_score_,search.best_estimator_.score(X_test,y_test))\n",
    ")\n",
    "model3 = search.best_estimator_\n",
    "y_pred = model3.predict(X_test)\n",
    "print(\n",
    "    \"The F1-score is %0.5f\"\n",
    "    % (f1_score(y_test,y_pred))\n",
    ")\n",
    "print(\n",
    "    \"The balance accuracy is %0.5f\"\n",
    "    % (balanced_accuracy_score(y_test,y_pred))\n",
    ")\n",
    "print(\n",
    "    \"The precision is %0.5f\"\n",
    "    % (precision_score(y_test,y_pred))\n",
    ")\n",
    "print(\n",
    "    \"The recall is %0.5f\"\n",
    "    % (recall_score(y_test,y_pred))\n",
    ")\n",
    "print(classification_report(y_test,y_pred))"
   ]
  },
  {
   "cell_type": "code",
   "execution_count": null,
   "id": "033773e7",
   "metadata": {
    "execution": {
     "iopub.execute_input": "2023-06-30T20:33:10.518705Z",
     "iopub.status.busy": "2023-06-30T20:33:10.518303Z",
     "iopub.status.idle": "2023-06-30T20:33:14.992116Z",
     "shell.execute_reply": "2023-06-30T20:33:14.991229Z"
    }
   },
   "outputs": [],
   "source": [
    "explainer = shap.Explainer(model3)\n",
    "shap_obj = explainer(X_train)\n",
    "shap_values = explainer.shap_values(X_train)\n",
    "\n",
    "shap.summary_plot(shap_values, features = X_train,feature_names=feature_names,show=False)\n",
    "plt.savefig(\"figures/\"+name+\"_fig3.pdf\", format=\"pdf\", bbox_inches=\"tight\")\n",
    "plt.show()"
   ]
  },
  {
   "cell_type": "code",
   "execution_count": null,
   "id": "ee98edc0",
   "metadata": {
    "execution": {
     "iopub.execute_input": "2023-06-30T20:33:14.995421Z",
     "iopub.status.busy": "2023-06-30T20:33:14.994826Z",
     "iopub.status.idle": "2023-06-30T20:33:15.168102Z",
     "shell.execute_reply": "2023-06-30T20:33:15.167180Z"
    }
   },
   "outputs": [],
   "source": [
    "with open(\"features/static_features_\" + name + \".csv\", \"r\") as f:\n",
    "  line = f.readline()\n",
    "  feature_names = line.split(\",\")\n",
    "  feature_names.pop(0)\n",
    "\n",
    "data_static = pd.read_csv(\"features/static_features_\" + name + \".csv\")\n",
    "data_static = data_static.merge(labels, on='name')\n",
    "data_static = data_static.merge(data.loc[:,\"name\"], on='name')\n",
    "names = data_static.loc[:,\"name\"]\n",
    "y = data_static.loc[:,\"label\"]\n",
    "X = data_static.drop([\"name\", \"label\"], axis = 1)\n",
    "\n",
    "sss = StratifiedShuffleSplit(n_splits=1, test_size=0.3, random_state=0)\n",
    "for train_index, test_index in sss.split(X, y):\n",
    "    X_train, X_test = X.iloc[train_index], X.iloc[test_index]\n",
    "    y_train, y_test = y.iloc[train_index], y.iloc[test_index]"
   ]
  },
  {
   "cell_type": "code",
   "execution_count": null,
   "id": "1cd83c93",
   "metadata": {
    "execution": {
     "iopub.execute_input": "2023-06-30T20:33:15.171315Z",
     "iopub.status.busy": "2023-06-30T20:33:15.170861Z",
     "iopub.status.idle": "2023-06-30T20:33:34.534041Z",
     "shell.execute_reply": "2023-06-30T20:33:34.533080Z"
    }
   },
   "outputs": [],
   "source": [
    "param_grid =  {\"criterion\": [\"gini\",\"entropy\"],\"min_samples_leaf\":[2,3,4,5,6,7,8,9,10,11,12],\"max_depth\":[1,2,3,4,5,6,7,8,9,10,11,12]}\n",
    "dt = DecisionTreeClassifier(random_state=0)\n",
    "cv = StratifiedKFold(n_splits=10)\n",
    "search = GridSearchCV(estimator=dt, param_grid=param_grid, cv = cv, scoring = \"balanced_accuracy\", n_jobs = -1)\n",
    "search.fit(X_train, y_train)\n",
    "print(\n",
    "    \"The best parameters are %s with a score of %0.5f in training and a score of %0.5f in testing\"\n",
    "    % (search.best_params_, search.best_score_,search.best_estimator_.score(X_test,y_test))\n",
    ")\n",
    "model4 = search.best_estimator_\n",
    "y_pred = model4.predict(X_test)\n",
    "print(\n",
    "    \"The F1-score is %0.5f\"\n",
    "    % (f1_score(y_test,y_pred))\n",
    ")\n",
    "print(\n",
    "    \"The balance accuracy is %0.5f\"\n",
    "    % (balanced_accuracy_score(y_test,y_pred))\n",
    ")\n",
    "print(\n",
    "    \"The precision is %0.5f\"\n",
    "    % (precision_score(y_test,y_pred))\n",
    ")\n",
    "print(\n",
    "    \"The recall is %0.5f\"\n",
    "    % (recall_score(y_test,y_pred))\n",
    ")\n",
    "print(classification_report(y_test,y_pred))"
   ]
  },
  {
   "cell_type": "code",
   "execution_count": null,
   "id": "334985bf",
   "metadata": {
    "execution": {
     "iopub.execute_input": "2023-06-30T20:33:34.554445Z",
     "iopub.status.busy": "2023-06-30T20:33:34.554209Z",
     "iopub.status.idle": "2023-06-30T20:33:35.118418Z",
     "shell.execute_reply": "2023-06-30T20:33:35.117595Z"
    }
   },
   "outputs": [],
   "source": [
    "explainer = shap.Explainer(model4)\n",
    "shap_obj = explainer(X_train)\n",
    "shap_values = explainer.shap_values(X_train)\n",
    "\n",
    "shap.summary_plot(shap_values, features = X_train,feature_names=feature_names,show=False)\n",
    "plt.savefig(\"figures/\"+name+\"_fig4.pdf\", format=\"pdf\", bbox_inches=\"tight\")\n",
    "plt.show()"
   ]
  },
  {
   "cell_type": "code",
   "execution_count": null,
   "id": "6bdd7ecc",
   "metadata": {
    "execution": {
     "iopub.execute_input": "2023-06-30T20:33:35.121394Z",
     "iopub.status.busy": "2023-06-30T20:33:35.121135Z",
     "iopub.status.idle": "2023-06-30T20:54:11.520784Z",
     "shell.execute_reply": "2023-06-30T20:54:11.519588Z"
    }
   },
   "outputs": [],
   "source": [
    "param_grid =  {\"criterion\": [\"gini\",\"entropy\"],\"min_samples_leaf\":[2,3,4,5,6,7,8,9,10,11,12],\"max_depth\":[1,2,3,4,5,6,7,8,9,10,11,12],\"n_estimators\" : [i for i in range(10,40)]}\n",
    "rf = RandomForestClassifier(random_state = 0)\n",
    "cv = StratifiedKFold(n_splits=10)\n",
    "search = GridSearchCV(estimator=rf, param_grid=param_grid, cv = cv, scoring = \"balanced_accuracy\", n_jobs = -1)\n",
    "search.fit(X_train, y_train)\n",
    "print(\n",
    "    \"The best parameters are %s with a score of %0.5f in training and a score of %0.5f in testing\"\n",
    "    % (search.best_params_, search.best_score_,search.best_estimator_.score(X_test,y_test))\n",
    ")\n",
    "model5 = search.best_estimator_\n",
    "y_pred = model5.predict(X_test)\n",
    "print(\n",
    "    \"The F1-score is %0.5f\"\n",
    "    % (f1_score(y_test,y_pred))\n",
    ")\n",
    "print(\n",
    "    \"The balance accuracy is %0.5f\"\n",
    "    % (balanced_accuracy_score(y_test,y_pred))\n",
    ")\n",
    "print(\n",
    "    \"The precision is %0.5f\"\n",
    "    % (precision_score(y_test,y_pred))\n",
    ")\n",
    "print(\n",
    "    \"The recall is %0.5f\"\n",
    "    % (recall_score(y_test,y_pred))\n",
    ")\n",
    "print(classification_report(y_test,y_pred))"
   ]
  },
  {
   "cell_type": "code",
   "execution_count": null,
   "id": "ce8c261d",
   "metadata": {
    "execution": {
     "iopub.execute_input": "2023-06-30T20:54:11.545356Z",
     "iopub.status.busy": "2023-06-30T20:54:11.544615Z",
     "iopub.status.idle": "2023-06-30T20:54:16.659985Z",
     "shell.execute_reply": "2023-06-30T20:54:16.659174Z"
    }
   },
   "outputs": [],
   "source": [
    "explainer = shap.Explainer(model5)\n",
    "shap_obj = explainer(X_train)\n",
    "shap_values = explainer.shap_values(X_train)\n",
    "\n",
    "shap.summary_plot(shap_values, features = X_train,feature_names=feature_names,show=False)\n",
    "plt.savefig(\"figures/\"+name+\"_fig5.pdf\", format=\"pdf\", bbox_inches=\"tight\")\n",
    "plt.show()"
   ]
  },
  {
   "cell_type": "code",
   "execution_count": null,
   "id": "faccbe78",
   "metadata": {
    "execution": {
     "iopub.execute_input": "2023-06-30T20:54:16.663476Z",
     "iopub.status.busy": "2023-06-30T20:54:16.662941Z",
     "iopub.status.idle": "2023-07-01T04:54:12.347954Z",
     "shell.execute_reply": "2023-07-01T04:54:12.346739Z"
    }
   },
   "outputs": [],
   "source": [
    "param_grid = {\"criterion\":[\"friedman_mse\",\"squared_error\"],\"loss\": [\"log_loss\",\"exponential\"],\"min_samples_leaf\":[2,3,4,5,6,7,8,9,10,11,12],\"max_depth\":[1,2,3,4,5,6,7,8,9,10,11,12],\"n_estimators\" : [i for i in range(10,40)]}\n",
    "gbdt = GradientBoostingClassifier(random_state = 0)\n",
    "cv = StratifiedKFold(n_splits=10)\n",
    "search = GridSearchCV(estimator=gbdt, param_grid=param_grid, cv = cv, scoring = \"balanced_accuracy\", n_jobs = -1)\n",
    "search.fit(X_train, y_train)\n",
    "print(\n",
    "    \"The best parameters are %s with a score of %0.5f in training and a score of %0.5f in testing\"\n",
    "    % (search.best_params_, search.best_score_,search.best_estimator_.score(X_test,y_test))\n",
    ")\n",
    "model6 = search.best_estimator_\n",
    "y_pred = model6.predict(X_test)\n",
    "print(\n",
    "    \"The F1-score is %0.5f\"\n",
    "    % (f1_score(y_test,y_pred))\n",
    ")\n",
    "print(\n",
    "    \"The balance accuracy is %0.5f\"\n",
    "    % (balanced_accuracy_score(y_test,y_pred))\n",
    ")\n",
    "print(\n",
    "    \"The precision is %0.5f\"\n",
    "    % (precision_score(y_test,y_pred))\n",
    ")\n",
    "print(\n",
    "    \"The recall is %0.5f\"\n",
    "    % (recall_score(y_test,y_pred))\n",
    ")\n",
    "print(classification_report(y_test,y_pred))"
   ]
  },
  {
   "cell_type": "code",
   "execution_count": null,
   "id": "5ed5ae61",
   "metadata": {
    "execution": {
     "iopub.execute_input": "2023-07-01T04:54:12.368817Z",
     "iopub.status.busy": "2023-07-01T04:54:12.368588Z",
     "iopub.status.idle": "2023-07-01T04:54:20.403916Z",
     "shell.execute_reply": "2023-07-01T04:54:20.403288Z"
    }
   },
   "outputs": [],
   "source": [
    "explainer = shap.Explainer(model6)\n",
    "shap_obj = explainer(X_train)\n",
    "shap_values = explainer.shap_values(X_train)\n",
    "\n",
    "shap.summary_plot(shap_values, features = X_train,feature_names=feature_names,show=False)\n",
    "plt.savefig(\"figures/\"+name+\"_fig6.pdf\", format=\"pdf\", bbox_inches=\"tight\")\n",
    "plt.show()"
   ]
  },
  {
   "cell_type": "code",
   "execution_count": null,
   "id": "0ce75708",
   "metadata": {
    "execution": {
     "iopub.execute_input": "2023-07-01T04:54:20.407408Z",
     "iopub.status.busy": "2023-07-01T04:54:20.407141Z",
     "iopub.status.idle": "2023-07-01T04:54:20.626974Z",
     "shell.execute_reply": "2023-07-01T04:54:20.626277Z"
    }
   },
   "outputs": [],
   "source": [
    "with open(\"features/static_features_\" + name + \".csv\", \"r\") as f:\n",
    "  line = f.readline()\n",
    "  static_feature_names = line.split(\",\")\n",
    "  static_feature_names.pop(0)\n",
    "\n",
    "with open(\"features/features_\" + name + \".csv\", \"r\") as f:\n",
    "  line = f.readline()\n",
    "  feature_names = line.split(\",\")\n",
    "  feature_names.pop(0)\n",
    "\n",
    "feature_names = feature_names.append(static_feature_names)\n",
    "\n",
    "data = pd.read_csv(\"features/features_\" + name + \".csv\")\n",
    "data_static = pd.read_csv(\"features/static_features_\" + name + \".csv\")\n",
    "data = data.merge(data_static, on='name')\n",
    "\n",
    "labels = pd.read_csv(\"labels/labels_\" + name + \".csv\",header=None, names=['name', 'label'])\n",
    "data = data.merge(labels, on='name')\n",
    "\n",
    "names = data.loc[:,\"name\"]\n",
    "y = data.loc[:,\"label\"]\n",
    "X = data.drop([\"name\",\"label\"], axis = 1)\n",
    "\n",
    "sss = StratifiedShuffleSplit(n_splits=1, test_size=0.3, random_state=0)\n",
    "for train_index, test_index in sss.split(X, y):\n",
    "    X_train, X_test = X.iloc[train_index], X.iloc[test_index]\n",
    "    y_train, y_test = y.iloc[train_index], y.iloc[test_index]"
   ]
  },
  {
   "cell_type": "code",
   "execution_count": null,
   "id": "58280e10",
   "metadata": {
    "execution": {
     "iopub.execute_input": "2023-07-01T04:54:20.630294Z",
     "iopub.status.busy": "2023-07-01T04:54:20.630031Z",
     "iopub.status.idle": "2023-07-01T04:55:01.631792Z",
     "shell.execute_reply": "2023-07-01T04:55:01.630913Z"
    }
   },
   "outputs": [],
   "source": [
    "param_grid =  {\"criterion\": [\"gini\",\"entropy\"],\"min_samples_leaf\":[2,3,4,5,6,7,8,9,10,11,12],\"max_depth\":[1,2,3,4,5,6,7,8,9,10,11,12]}\n",
    "dt = DecisionTreeClassifier(random_state=0)\n",
    "cv = StratifiedKFold(n_splits=10)\n",
    "search = GridSearchCV(estimator=dt, param_grid=param_grid, cv = cv, scoring = \"balanced_accuracy\", n_jobs = -1)\n",
    "search.fit(X_train, y_train)\n",
    "print(\n",
    "    \"The best parameters are %s with a score of %0.5f in training and a score of %0.5f in testing\"\n",
    "    % (search.best_params_, search.best_score_,search.best_estimator_.score(X_test,y_test))\n",
    ")\n",
    "model7 = search.best_estimator_\n",
    "y_pred = model7.predict(X_test)\n",
    "print(\n",
    "    \"The F1-score is %0.5f\"\n",
    "    % (f1_score(y_test,y_pred))\n",
    ")\n",
    "print(\n",
    "    \"The balance accuracy is %0.5f\"\n",
    "    % (balanced_accuracy_score(y_test,y_pred))\n",
    ")\n",
    "print(\n",
    "    \"The precision is %0.5f\"\n",
    "    % (precision_score(y_test,y_pred))\n",
    ")\n",
    "print(\n",
    "    \"The recall is %0.5f\"\n",
    "    % (recall_score(y_test,y_pred))\n",
    ")\n",
    "print(classification_report(y_test,y_pred))"
   ]
  },
  {
   "cell_type": "code",
   "execution_count": null,
   "id": "0f125ca8",
   "metadata": {
    "execution": {
     "iopub.execute_input": "2023-07-01T04:55:01.652898Z",
     "iopub.status.busy": "2023-07-01T04:55:01.652376Z",
     "iopub.status.idle": "2023-07-01T04:55:02.459549Z",
     "shell.execute_reply": "2023-07-01T04:55:02.458766Z"
    }
   },
   "outputs": [],
   "source": [
    "explainer = shap.Explainer(model7)\n",
    "shap_obj = explainer(X_train)\n",
    "shap_values = explainer.shap_values(X_train)\n",
    "\n",
    "shap.summary_plot(shap_values, features = X_train,feature_names=feature_names,show=False)\n",
    "plt.savefig(\"figures/\"+name+\"_fig7.pdf\", format=\"pdf\", bbox_inches=\"tight\")\n",
    "plt.show()"
   ]
  },
  {
   "cell_type": "code",
   "execution_count": null,
   "id": "d26675ab",
   "metadata": {
    "execution": {
     "iopub.execute_input": "2023-07-01T04:55:02.462638Z",
     "iopub.status.busy": "2023-07-01T04:55:02.462134Z",
     "iopub.status.idle": "2023-07-01T05:27:09.991428Z",
     "shell.execute_reply": "2023-07-01T05:27:09.990512Z"
    }
   },
   "outputs": [],
   "source": [
    "param_grid =  {\"criterion\": [\"gini\",\"entropy\"],\"min_samples_leaf\":[2,3,4,5,6,7,8,9,10,11,12],\"max_depth\":[1,2,3,4,5,6,7,8,9,10,11,12],\"n_estimators\" : [i for i in range(10,40)]}\n",
    "rf = RandomForestClassifier(random_state = 0)\n",
    "cv = StratifiedKFold(n_splits=10)\n",
    "search = GridSearchCV(estimator=rf, param_grid=param_grid, cv = cv, scoring = \"balanced_accuracy\", n_jobs = -1)\n",
    "search.fit(X_train, y_train)\n",
    "print(\n",
    "    \"The best parameters are %s with a score of %0.5f in training and a score of %0.5f in testing\"\n",
    "    % (search.best_params_, search.best_score_,search.best_estimator_.score(X_test,y_test))\n",
    ")\n",
    "model8 = search.best_estimator_\n",
    "y_pred = model8.predict(X_test)\n",
    "print(\n",
    "    \"The F1-score is %0.5f\"\n",
    "    % (f1_score(y_test,y_pred))\n",
    ")\n",
    "print(\n",
    "    \"The balance accuracy is %0.5f\"\n",
    "    % (balanced_accuracy_score(y_test,y_pred))\n",
    ")\n",
    "print(\n",
    "    \"The precision is %0.5f\"\n",
    "    % (precision_score(y_test,y_pred))\n",
    ")\n",
    "print(\n",
    "    \"The recall is %0.5f\"\n",
    "    % (recall_score(y_test,y_pred))\n",
    ")\n",
    "print(classification_report(y_test,y_pred))"
   ]
  },
  {
   "cell_type": "code",
   "execution_count": null,
   "id": "7f5f1372",
   "metadata": {
    "execution": {
     "iopub.execute_input": "2023-07-01T05:27:10.011282Z",
     "iopub.status.busy": "2023-07-01T05:27:10.010875Z",
     "iopub.status.idle": "2023-07-01T05:27:13.974345Z",
     "shell.execute_reply": "2023-07-01T05:27:13.973732Z"
    }
   },
   "outputs": [],
   "source": [
    "explainer = shap.Explainer(model8)\n",
    "shap_obj = explainer(X_train)\n",
    "shap_values = explainer.shap_values(X_train)\n",
    "\n",
    "shap.summary_plot(shap_values, features = X_train,feature_names=feature_names,show=False)\n",
    "plt.savefig(\"figures/\"+name+\"_fig8.pdf\", format=\"pdf\", bbox_inches=\"tight\")\n",
    "plt.show()"
   ]
  },
  {
   "cell_type": "code",
   "execution_count": null,
   "id": "59a3a8bf",
   "metadata": {
    "execution": {
     "iopub.execute_input": "2023-07-01T05:27:13.977637Z",
     "iopub.status.busy": "2023-07-01T05:27:13.976960Z",
     "iopub.status.idle": "2023-07-01T23:29:58.929819Z",
     "shell.execute_reply": "2023-07-01T23:29:58.928615Z"
    }
   },
   "outputs": [],
   "source": [
    "param_grid = {\"criterion\":[\"friedman_mse\",\"squared_error\"],\"loss\": [\"log_loss\",\"exponential\"],\"min_samples_leaf\":[2,3,4,5,6,7,8,9,10,11,12],\"max_depth\":[1,2,3,4,5,6,7,8,9,10,11,12],\"n_estimators\" : [i for i in range(10,40)]}\n",
    "gbdt = GradientBoostingClassifier(random_state = 0)\n",
    "cv = StratifiedKFold(n_splits=10)\n",
    "search = GridSearchCV(estimator=gbdt, param_grid=param_grid, cv = cv, scoring = \"balanced_accuracy\", n_jobs = -1)\n",
    "search.fit(X_train, y_train)\n",
    "print(\n",
    "    \"The best parameters are %s with a score of %0.5f in training and a score of %0.5f in testing\"\n",
    "    % (search.best_params_, search.best_score_,search.best_estimator_.score(X_test,y_test))\n",
    ")\n",
    "model9 = search.best_estimator_\n",
    "y_pred = model9.predict(X_test)\n",
    "print(\n",
    "    \"The F1-score is %0.5f\"\n",
    "    % (f1_score(y_test,y_pred))\n",
    ")\n",
    "print(\n",
    "    \"The balance accuracy is %0.5f\"\n",
    "    % (balanced_accuracy_score(y_test,y_pred))\n",
    ")\n",
    "print(\n",
    "    \"The precision is %0.5f\"\n",
    "    % (precision_score(y_test,y_pred))\n",
    ")\n",
    "print(\n",
    "    \"The recall is %0.5f\"\n",
    "    % (recall_score(y_test,y_pred))\n",
    ")\n",
    "print(classification_report(y_test,y_pred))"
   ]
  },
  {
   "cell_type": "code",
   "execution_count": null,
   "id": "49cf3226",
   "metadata": {
    "execution": {
     "iopub.execute_input": "2023-07-01T23:29:58.951111Z",
     "iopub.status.busy": "2023-07-01T23:29:58.950408Z",
     "iopub.status.idle": "2023-07-01T23:30:05.428815Z",
     "shell.execute_reply": "2023-07-01T23:30:05.428064Z"
    }
   },
   "outputs": [],
   "source": [
    "explainer = shap.Explainer(model9)\n",
    "shap_obj = explainer(X_train)\n",
    "shap_values = explainer.shap_values(X_train)\n",
    "\n",
    "shap.summary_plot(shap_values, features = X_train,feature_names=feature_names,show=False)\n",
    "plt.savefig(\"figures/\"+name+\"_fig9.pdf\", format=\"pdf\", bbox_inches=\"tight\")\n",
    "plt.show()"
   ]
  }
 ],
 "metadata": {
  "kernelspec": {
   "display_name": "Python 3 (ipykernel)",
   "language": "python",
   "name": "python3"
  },
  "language_info": {
   "codemirror_mode": {
    "name": "ipython",
    "version": 3
   },
   "file_extension": ".py",
   "mimetype": "text/x-python",
   "name": "python",
   "nbconvert_exporter": "python",
   "pygments_lexer": "ipython3",
   "version": "3.8.10"
  }
 },
 "nbformat": 4,
 "nbformat_minor": 5
}
