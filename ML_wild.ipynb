{
 "cells": [
  {
   "cell_type": "code",
   "execution_count": 6,
   "id": "21bf58f7",
   "metadata": {
    "execution": {
     "iopub.execute_input": "2023-09-04T15:21:41.868758Z",
     "iopub.status.busy": "2023-09-04T15:21:41.868345Z",
     "iopub.status.idle": "2023-09-04T15:21:43.402237Z",
     "shell.execute_reply": "2023-09-04T15:21:43.401295Z"
    }
   },
   "outputs": [],
   "source": [
    "import sys\n",
    "import pickle\n",
    "import numpy as np\n",
    "import pandas as pd\n",
    "import matplotlib.pyplot as plt\n",
    "from sklearn.utils import resample, shuffle\n",
    "from sklearn.tree import DecisionTreeClassifier, plot_tree\n",
    "from sklearn.ensemble import RandomForestClassifier, GradientBoostingClassifier\n",
    "from sklearn.model_selection import GridSearchCV, StratifiedKFold, StratifiedShuffleSplit, train_test_split\n",
    "from sklearn.metrics import balanced_accuracy_score, f1_score, precision_score, recall_score, classification_report\n",
    "\n",
    "name = \"wild\"\n",
    "with open(\"features/features_\" + name + \".csv\", \"r\") as f:\n",
    "  line = f.readline()\n",
    "  feature_names = line.split(\",\")\n",
    "  feature_names.remove(\"name\")\n",
    "  feature_names.remove(\"write_execute_size\")\n",
    "  feature_names.remove(\"initial_iat_dll\")\n",
    "  feature_names.remove(\"initial_iat_func\")\n",
    "  feature_names.remove(\"initial_iat_malicious_func\")\n",
    "  feature_names.remove(\"number_add_exec_permission\")\n",
    "  feature_names.remove(\"number_add_write_permisison\")\n",
    "\n",
    "data = pd.read_csv(\"features/features_\" + name + \".csv\")\n",
    "labels = pd.read_csv(\"labels/labels_\" + name + \".csv\",header=None, names=['name', 'label'])\n",
    "data = data.merge(labels, on='name')\n",
    "\n",
    "names = data.loc[:,\"name\"]\n",
    "y = data.loc[:,\"label\"]\n",
    "X = data.drop([\"name\",\"label\",\"write_execute_size\",\"initial_iat_dll\",\"initial_iat_func\",\"initial_iat_malicious_func\",\"number_add_exec_permission\",\"number_add_write_permisison\"], axis = 1)\n",
    "\n",
    "sss = StratifiedShuffleSplit(n_splits=1, test_size=0.3, random_state=0)\n",
    "for train_index, test_index in sss.split(X, y):\n",
    "    X_train, X_test = X.iloc[train_index], X.iloc[test_index]\n",
    "    y_train, y_test = y.iloc[train_index], y.iloc[test_index]"
   ]
  },
  {
   "cell_type": "code",
   "execution_count": 7,
   "id": "f79517e7",
   "metadata": {
    "execution": {
     "iopub.execute_input": "2023-09-04T15:21:43.519622Z",
     "iopub.status.busy": "2023-09-04T15:21:43.519009Z",
     "iopub.status.idle": "2023-09-04T15:22:34.944722Z",
     "shell.execute_reply": "2023-09-04T15:22:34.943864Z"
    }
   },
   "outputs": [
    {
     "name": "stdout",
     "output_type": "stream",
     "text": [
      "The best parameters are {'criterion': 'entropy', 'max_depth': 6, 'min_samples_leaf': 3} with a score of 0.86314\n"
     ]
    }
   ],
   "source": [
    "param_grid =  {\"criterion\": [\"gini\",\"entropy\"],\"min_samples_leaf\":[2,3,4,5,6,7,8,9,10,11,12],\"max_depth\":[1,2,3,4,5,6,7,8,9,10,11,12]}\n",
    "dt = DecisionTreeClassifier(random_state=0)\n",
    "cv = StratifiedKFold(n_splits=10)\n",
    "search = GridSearchCV(estimator=dt, param_grid=param_grid, cv = cv, scoring = \"balanced_accuracy\", n_jobs = -1)\n",
    "search.fit(X_train, y_train)\n",
    "print(\"The best parameters are %s with a score of %0.5f\"% (search.best_params_, search.best_score_))\n",
    "model = search.best_estimator_\n",
    "pickle.dump(model, open(\"models/wild_dynamic_DT.pickle\", \"wb\"))"
   ]
  },
  {
   "cell_type": "code",
   "execution_count": 8,
   "id": "6a5ed477",
   "metadata": {
    "execution": {
     "iopub.execute_input": "2023-09-04T15:22:34.948365Z",
     "iopub.status.busy": "2023-09-04T15:22:34.947912Z",
     "iopub.status.idle": "2023-09-04T15:22:35.092485Z",
     "shell.execute_reply": "2023-09-04T15:22:35.091815Z"
    }
   },
   "outputs": [
    {
     "name": "stdout",
     "output_type": "stream",
     "text": [
      "The F1-score is 0.95000\n",
      "The balance accuracy is 0.86583\n",
      "The precision is 0.96722\n",
      "The recall is 0.93338\n",
      "              precision    recall  f1-score   support\n",
      "\n",
      "       False       0.65      0.80      0.72       233\n",
      "        True       0.97      0.93      0.95      1486\n",
      "\n",
      "    accuracy                           0.92      1719\n",
      "   macro avg       0.81      0.87      0.83      1719\n",
      "weighted avg       0.92      0.92      0.92      1719\n",
      "\n"
     ]
    }
   ],
   "source": [
    "y_pred = model.predict(X_test)\n",
    "print(\n",
    "    \"The F1-score is %0.5f\"\n",
    "    % (f1_score(y_test,y_pred))\n",
    ")\n",
    "print(\n",
    "    \"The balance accuracy is %0.5f\"\n",
    "    % (balanced_accuracy_score(y_test,y_pred))\n",
    ")\n",
    "print(\n",
    "    \"The precision is %0.5f\"\n",
    "    % (precision_score(y_test,y_pred))\n",
    ")\n",
    "print(\n",
    "    \"The recall is %0.5f\"\n",
    "    % (recall_score(y_test,y_pred))\n",
    ")\n",
    "print(classification_report(y_test,y_pred))"
   ]
  },
  {
   "cell_type": "code",
   "execution_count": 9,
   "id": "7836f94b",
   "metadata": {
    "execution": {
     "iopub.execute_input": "2023-09-04T15:22:36.162705Z",
     "iopub.status.busy": "2023-09-04T15:22:36.162009Z",
     "iopub.status.idle": "2023-09-04T16:30:27.707481Z",
     "shell.execute_reply": "2023-09-04T16:30:27.706654Z"
    }
   },
   "outputs": [
    {
     "name": "stdout",
     "output_type": "stream",
     "text": [
      "The best parameters are {'criterion': 'gini', 'max_depth': 12, 'min_samples_leaf': 2, 'n_estimators': 24} with a score of 0.87656\n"
     ]
    }
   ],
   "source": [
    "param_grid =  {\"criterion\": [\"gini\",\"entropy\"],\"min_samples_leaf\":[2,3,4,5,6,7,8,9,10,11,12],\"max_depth\":[1,2,3,4,5,6,7,8,9,10,11,12],\"n_estimators\" : [i for i in range(10,40)]}\n",
    "rf = RandomForestClassifier(random_state = 0)\n",
    "cv = StratifiedKFold(n_splits=10)\n",
    "search = GridSearchCV(estimator=rf, param_grid=param_grid, cv = cv, scoring = \"balanced_accuracy\", n_jobs = -1)\n",
    "search.fit(X_train, y_train)\n",
    "print(\"The best parameters are %s with a score of %0.5f\"% (search.best_params_, search.best_score_))\n",
    "model = search.best_estimator_\n",
    "pickle.dump(model, open(\"models/wild_dynamic_RF.pickle\", \"wb\"))"
   ]
  },
  {
   "cell_type": "code",
   "execution_count": 10,
   "id": "1021c3ab",
   "metadata": {
    "execution": {
     "iopub.execute_input": "2023-09-04T16:30:27.714306Z",
     "iopub.status.busy": "2023-09-04T16:30:27.713590Z",
     "iopub.status.idle": "2023-09-04T16:30:27.799246Z",
     "shell.execute_reply": "2023-09-04T16:30:27.798631Z"
    }
   },
   "outputs": [
    {
     "name": "stdout",
     "output_type": "stream",
     "text": [
      "The F1-score is 0.96798\n",
      "The balance accuracy is 0.85732\n",
      "The precision is 0.95966\n",
      "The recall is 0.97645\n",
      "              precision    recall  f1-score   support\n",
      "\n",
      "       False       0.83      0.74      0.78       233\n",
      "        True       0.96      0.98      0.97      1486\n",
      "\n",
      "    accuracy                           0.94      1719\n",
      "   macro avg       0.90      0.86      0.87      1719\n",
      "weighted avg       0.94      0.94      0.94      1719\n",
      "\n"
     ]
    }
   ],
   "source": [
    "y_pred = model.predict(X_test)\n",
    "print(\n",
    "    \"The F1-score is %0.5f\"\n",
    "    % (f1_score(y_test,y_pred))\n",
    ")\n",
    "print(\n",
    "    \"The balance accuracy is %0.5f\"\n",
    "    % (balanced_accuracy_score(y_test,y_pred))\n",
    ")\n",
    "print(\n",
    "    \"The precision is %0.5f\"\n",
    "    % (precision_score(y_test,y_pred))\n",
    ")\n",
    "print(\n",
    "    \"The recall is %0.5f\"\n",
    "    % (recall_score(y_test,y_pred))\n",
    ")\n",
    "print(classification_report(y_test,y_pred))"
   ]
  },
  {
   "cell_type": "code",
   "execution_count": 11,
   "id": "de02d1a3",
   "metadata": {
    "execution": {
     "iopub.execute_input": "2023-09-04T16:30:43.076233Z",
     "iopub.status.busy": "2023-09-04T16:30:43.075370Z",
     "iopub.status.idle": "2023-09-04T16:54:49.101157Z",
     "shell.execute_reply": "2023-09-04T16:54:49.100117Z"
    }
   },
   "outputs": [
    {
     "name": "stdout",
     "output_type": "stream",
     "text": [
      "The best parameters are {'max_depth': 7, 'min_samples_leaf': 8, 'n_estimators': 40} with a score of 0.87629\n"
     ]
    }
   ],
   "source": [
    "param_grid = {\"min_samples_leaf\":[2,3,4,5,6,7,8,9,10,11,12],\"max_depth\":[1,2,3,4,5,6,7,8,9,10,11,12],\"n_estimators\" : [40]}\n",
    "gbdt = GradientBoostingClassifier(random_state = 0)\n",
    "cv = StratifiedKFold(n_splits=10)\n",
    "search = GridSearchCV(estimator=gbdt, param_grid=param_grid, cv = cv, scoring = \"balanced_accuracy\", n_jobs = -1)\n",
    "search.fit(X_train, y_train)\n",
    "print(\"The best parameters are %s with a score of %0.5f\"% (search.best_params_, search.best_score_))\n",
    "model = search.best_estimator_\n",
    "pickle.dump(model, open(\"models/wild_dynamic_GBDT.pickle\", \"wb\"))"
   ]
  },
  {
   "cell_type": "code",
   "execution_count": 12,
   "id": "13418060",
   "metadata": {
    "execution": {
     "iopub.execute_input": "2023-09-04T16:54:49.105348Z",
     "iopub.status.busy": "2023-09-04T16:54:49.104840Z",
     "iopub.status.idle": "2023-09-04T16:54:49.184323Z",
     "shell.execute_reply": "2023-09-04T16:54:49.183431Z"
    }
   },
   "outputs": [
    {
     "name": "stdout",
     "output_type": "stream",
     "text": [
      "The F1-score is 0.97191\n",
      "The balance accuracy is 0.87945\n",
      "The precision is 0.96609\n",
      "The recall is 0.97779\n",
      "              precision    recall  f1-score   support\n",
      "\n",
      "       False       0.85      0.78      0.81       233\n",
      "        True       0.97      0.98      0.97      1486\n",
      "\n",
      "    accuracy                           0.95      1719\n",
      "   macro avg       0.91      0.88      0.89      1719\n",
      "weighted avg       0.95      0.95      0.95      1719\n",
      "\n"
     ]
    }
   ],
   "source": [
    "y_pred = model.predict(X_test)\n",
    "print(\n",
    "    \"The F1-score is %0.5f\"\n",
    "    % (f1_score(y_test,y_pred))\n",
    ")\n",
    "print(\n",
    "    \"The balance accuracy is %0.5f\"\n",
    "    % (balanced_accuracy_score(y_test,y_pred))\n",
    ")\n",
    "print(\n",
    "    \"The precision is %0.5f\"\n",
    "    % (precision_score(y_test,y_pred))\n",
    ")\n",
    "print(\n",
    "    \"The recall is %0.5f\"\n",
    "    % (recall_score(y_test,y_pred))\n",
    ")\n",
    "print(classification_report(y_test,y_pred))"
   ]
  },
  {
   "cell_type": "code",
   "execution_count": 13,
   "id": "ee98edc0",
   "metadata": {
    "execution": {
     "iopub.execute_input": "2023-09-04T16:54:49.187916Z",
     "iopub.status.busy": "2023-09-04T16:54:49.187416Z",
     "iopub.status.idle": "2023-09-04T16:54:49.793715Z",
     "shell.execute_reply": "2023-09-04T16:54:49.792868Z"
    }
   },
   "outputs": [],
   "source": [
    "with open(\"features/static_features_\" + name + \".csv\", \"r\") as f:\n",
    "  line = f.readline()\n",
    "  feature_names = line.split(\",\")\n",
    "  feature_names.pop(0)\n",
    "\n",
    "data = pd.read_csv(\"features/features_\" + name + \".csv\")\n",
    "labels = pd.read_csv(\"labels/labels_\" + name + \".csv\",header=None, names=['name', 'label'])\n",
    "data = data.merge(labels, on='name')\n",
    "data_static = pd.read_csv(\"features/static_features_\" + name + \".csv\")\n",
    "data_static = data_static.merge(data[[\"name\",\"label\"]], on='name')\n",
    "y = data_static.loc[:,\"label\"]\n",
    "X = data_static.drop([\"name\", \"label\"], axis = 1)\n",
    "\n",
    "sss = StratifiedShuffleSplit(n_splits=1, test_size=0.3, random_state=0)\n",
    "for train_index, test_index in sss.split(X, y):\n",
    "    X_train, X_test = X.iloc[train_index], X.iloc[test_index]\n",
    "    y_train, y_test = y.iloc[train_index], y.iloc[test_index]"
   ]
  },
  {
   "cell_type": "code",
   "execution_count": 14,
   "id": "1cd83c93",
   "metadata": {
    "execution": {
     "iopub.execute_input": "2023-09-04T16:54:49.939664Z",
     "iopub.status.busy": "2023-09-04T16:54:49.938986Z",
     "iopub.status.idle": "2023-09-04T16:55:54.032092Z",
     "shell.execute_reply": "2023-09-04T16:55:54.031280Z"
    }
   },
   "outputs": [
    {
     "name": "stdout",
     "output_type": "stream",
     "text": [
      "The best parameters are {'criterion': 'entropy', 'max_depth': 12, 'min_samples_leaf': 2} with a score of 0.82573\n"
     ]
    }
   ],
   "source": [
    "param_grid =  {\"criterion\": [\"gini\",\"entropy\"],\"min_samples_leaf\":[2,3,4,5,6,7,8,9,10,11,12],\"max_depth\":[1,2,3,4,5,6,7,8,9,10,11,12]}\n",
    "dt = DecisionTreeClassifier(random_state=0)\n",
    "cv = StratifiedKFold(n_splits=10)\n",
    "search = GridSearchCV(estimator=dt, param_grid=param_grid, cv = cv, scoring = \"balanced_accuracy\", n_jobs = -1)\n",
    "search.fit(X_train, y_train)\n",
    "print(\"The best parameters are %s with a score of %0.5f\"% (search.best_params_, search.best_score_))\n",
    "model = search.best_estimator_\n",
    "pickle.dump(model, open(\"models/wild_static_DT.pickle\", \"wb\"))"
   ]
  },
  {
   "cell_type": "code",
   "execution_count": 15,
   "id": "2cc63c94",
   "metadata": {
    "execution": {
     "iopub.execute_input": "2023-09-04T16:55:54.037277Z",
     "iopub.status.busy": "2023-09-04T16:55:54.036587Z",
     "iopub.status.idle": "2023-09-04T16:55:54.106115Z",
     "shell.execute_reply": "2023-09-04T16:55:54.105408Z"
    }
   },
   "outputs": [
    {
     "name": "stdout",
     "output_type": "stream",
     "text": [
      "The F1-score is 0.94049\n",
      "The balance accuracy is 0.82746\n",
      "The precision is 0.95619\n",
      "The recall is 0.92530\n",
      "              precision    recall  f1-score   support\n",
      "\n",
      "       False       0.60      0.73      0.66       233\n",
      "        True       0.96      0.93      0.94      1486\n",
      "\n",
      "    accuracy                           0.90      1719\n",
      "   macro avg       0.78      0.83      0.80      1719\n",
      "weighted avg       0.91      0.90      0.90      1719\n",
      "\n"
     ]
    }
   ],
   "source": [
    "y_pred = model.predict(X_test)\n",
    "print(\n",
    "    \"The F1-score is %0.5f\"\n",
    "    % (f1_score(y_test,y_pred))\n",
    ")\n",
    "print(\n",
    "    \"The balance accuracy is %0.5f\"\n",
    "    % (balanced_accuracy_score(y_test,y_pred))\n",
    ")\n",
    "print(\n",
    "    \"The precision is %0.5f\"\n",
    "    % (precision_score(y_test,y_pred))\n",
    ")\n",
    "print(\n",
    "    \"The recall is %0.5f\"\n",
    "    % (recall_score(y_test,y_pred))\n",
    ")\n",
    "print(classification_report(y_test,y_pred))"
   ]
  },
  {
   "cell_type": "code",
   "execution_count": 16,
   "id": "6bdd7ecc",
   "metadata": {
    "execution": {
     "iopub.execute_input": "2023-09-04T16:55:55.307784Z",
     "iopub.status.busy": "2023-09-04T16:55:55.307501Z",
     "iopub.status.idle": "2023-09-04T17:53:54.377156Z",
     "shell.execute_reply": "2023-09-04T17:53:54.376321Z"
    }
   },
   "outputs": [
    {
     "name": "stdout",
     "output_type": "stream",
     "text": [
      "The best parameters are {'criterion': 'entropy', 'max_depth': 12, 'min_samples_leaf': 3, 'n_estimators': 10} with a score of 0.78256\n"
     ]
    }
   ],
   "source": [
    "param_grid =  {\"criterion\": [\"gini\",\"entropy\"],\"min_samples_leaf\":[2,3,4,5,6,7,8,9,10,11,12],\"max_depth\":[1,2,3,4,5,6,7,8,9,10,11,12],\"n_estimators\" : [i for i in range(10,40)]}\n",
    "rf = RandomForestClassifier(random_state = 0)\n",
    "cv = StratifiedKFold(n_splits=10)\n",
    "search = GridSearchCV(estimator=rf, param_grid=param_grid, cv = cv, scoring = \"balanced_accuracy\", n_jobs = -1)\n",
    "search.fit(X_train, y_train)\n",
    "print(\"The best parameters are %s with a score of %0.5f\"% (search.best_params_, search.best_score_))\n",
    "model = search.best_estimator_\n",
    "pickle.dump(model, open(\"models/wild_static_RF.pickle\", \"wb\"))"
   ]
  },
  {
   "cell_type": "code",
   "execution_count": 17,
   "id": "16913265",
   "metadata": {
    "execution": {
     "iopub.execute_input": "2023-09-04T17:53:54.381832Z",
     "iopub.status.busy": "2023-09-04T17:53:54.380927Z",
     "iopub.status.idle": "2023-09-04T17:53:54.456525Z",
     "shell.execute_reply": "2023-09-04T17:53:54.455788Z"
    }
   },
   "outputs": [
    {
     "name": "stdout",
     "output_type": "stream",
     "text": [
      "The F1-score is 0.95458\n",
      "The balance accuracy is 0.76900\n",
      "The precision is 0.93428\n",
      "The recall is 0.97577\n",
      "              precision    recall  f1-score   support\n",
      "\n",
      "       False       0.78      0.56      0.65       233\n",
      "        True       0.93      0.98      0.95      1486\n",
      "\n",
      "    accuracy                           0.92      1719\n",
      "   macro avg       0.86      0.77      0.80      1719\n",
      "weighted avg       0.91      0.92      0.91      1719\n",
      "\n"
     ]
    }
   ],
   "source": [
    "y_pred = model.predict(X_test)\n",
    "print(\n",
    "    \"The F1-score is %0.5f\"\n",
    "    % (f1_score(y_test,y_pred))\n",
    ")\n",
    "print(\n",
    "    \"The balance accuracy is %0.5f\"\n",
    "    % (balanced_accuracy_score(y_test,y_pred))\n",
    ")\n",
    "print(\n",
    "    \"The precision is %0.5f\"\n",
    "    % (precision_score(y_test,y_pred))\n",
    ")\n",
    "print(\n",
    "    \"The recall is %0.5f\"\n",
    "    % (recall_score(y_test,y_pred))\n",
    ")\n",
    "print(classification_report(y_test,y_pred))"
   ]
  },
  {
   "cell_type": "code",
   "execution_count": 18,
   "id": "faccbe78",
   "metadata": {
    "execution": {
     "iopub.execute_input": "2023-09-04T17:54:00.845192Z",
     "iopub.status.busy": "2023-09-04T17:54:00.844913Z",
     "iopub.status.idle": "2023-09-04T18:14:23.956465Z",
     "shell.execute_reply": "2023-09-04T18:14:23.955700Z"
    }
   },
   "outputs": [
    {
     "name": "stdout",
     "output_type": "stream",
     "text": [
      "The best parameters are {'max_depth': 9, 'min_samples_leaf': 8, 'n_estimators': 40} with a score of 0.82332\n"
     ]
    }
   ],
   "source": [
    "param_grid = {\"min_samples_leaf\":[2,3,4,5,6,7,8,9,10,11,12],\"max_depth\":[1,2,3,4,5,6,7,8,9,10,11,12],\"n_estimators\" : [40]}\n",
    "gbdt = GradientBoostingClassifier(random_state = 0)\n",
    "cv = StratifiedKFold(n_splits=10)\n",
    "search = GridSearchCV(estimator=gbdt, param_grid=param_grid, cv = cv, scoring = \"balanced_accuracy\", n_jobs = -1)\n",
    "search.fit(X_train, y_train)\n",
    "print(\"The best parameters are %s with a score of %0.5f\"% (search.best_params_, search.best_score_))\n",
    "model = search.best_estimator_\n",
    "pickle.dump(model, open(\"models/wild_static_GBDT.pickle\", \"wb\"))"
   ]
  },
  {
   "cell_type": "code",
   "execution_count": 19,
   "id": "8503e9b0",
   "metadata": {
    "execution": {
     "iopub.execute_input": "2023-09-04T18:14:23.963661Z",
     "iopub.status.busy": "2023-09-04T18:14:23.963140Z",
     "iopub.status.idle": "2023-09-04T18:14:24.041656Z",
     "shell.execute_reply": "2023-09-04T18:14:24.041036Z"
    }
   },
   "outputs": [
    {
     "name": "stdout",
     "output_type": "stream",
     "text": [
      "The F1-score is 0.96316\n",
      "The balance accuracy is 0.82513\n",
      "The precision is 0.95023\n",
      "The recall is 0.97645\n",
      "              precision    recall  f1-score   support\n",
      "\n",
      "       False       0.82      0.67      0.74       233\n",
      "        True       0.95      0.98      0.96      1486\n",
      "\n",
      "    accuracy                           0.94      1719\n",
      "   macro avg       0.88      0.83      0.85      1719\n",
      "weighted avg       0.93      0.94      0.93      1719\n",
      "\n"
     ]
    }
   ],
   "source": [
    "y_pred = model.predict(X_test)\n",
    "print(\n",
    "    \"The F1-score is %0.5f\"\n",
    "    % (f1_score(y_test,y_pred))\n",
    ")\n",
    "print(\n",
    "    \"The balance accuracy is %0.5f\"\n",
    "    % (balanced_accuracy_score(y_test,y_pred))\n",
    ")\n",
    "print(\n",
    "    \"The precision is %0.5f\"\n",
    "    % (precision_score(y_test,y_pred))\n",
    ")\n",
    "print(\n",
    "    \"The recall is %0.5f\"\n",
    "    % (recall_score(y_test,y_pred))\n",
    ")\n",
    "print(classification_report(y_test,y_pred))"
   ]
  },
  {
   "cell_type": "code",
   "execution_count": 20,
   "id": "0ce75708",
   "metadata": {
    "execution": {
     "iopub.execute_input": "2023-09-04T18:14:24.044994Z",
     "iopub.status.busy": "2023-09-04T18:14:24.044501Z",
     "iopub.status.idle": "2023-09-04T18:14:24.614521Z",
     "shell.execute_reply": "2023-09-04T18:14:24.613474Z"
    }
   },
   "outputs": [],
   "source": [
    "with open(\"features/static_features_\" + name + \".csv\", \"r\") as f:\n",
    "  line = f.readline()\n",
    "  static_feature_names = line.split(\",\")\n",
    "  static_feature_names.pop(0)\n",
    "\n",
    "with open(\"features/features_\" + name + \".csv\", \"r\") as f:\n",
    "  line = f.readline()\n",
    "  feature_names = line.split(\",\")\n",
    "  feature_names.remove(\"name\")\n",
    "  feature_names.remove(\"write_execute_size\")\n",
    "  feature_names.remove(\"initial_iat_dll\")\n",
    "  feature_names.remove(\"initial_iat_func\")\n",
    "  feature_names.remove(\"initial_iat_malicious_func\")\n",
    "  feature_names.remove(\"number_add_exec_permission\")\n",
    "  feature_names.remove(\"number_add_write_permisison\")\n",
    "\n",
    "feature_names = np.concatenate((feature_names,static_feature_names),axis=None)\n",
    "\n",
    "data = pd.read_csv(\"features/features_\" + name + \".csv\")\n",
    "data_static = pd.read_csv(\"features/static_features_\" + name + \".csv\")\n",
    "data = data.merge(data_static, on='name')\n",
    "\n",
    "labels = pd.read_csv(\"labels/labels_\" + name + \".csv\",header=None, names=['name', 'label'])\n",
    "data = data.merge(labels, on='name')\n",
    "\n",
    "names = data.loc[:,\"name\"]\n",
    "y = data.loc[:,\"label\"]\n",
    "X = data.drop([\"name\",\"label\",\"write_execute_size\",\"initial_iat_dll\",\"initial_iat_func\",\"initial_iat_malicious_func\",\"number_add_exec_permission\",\"number_add_write_permisison\"], axis = 1)\n",
    "\n",
    "sss = StratifiedShuffleSplit(n_splits=1, test_size=0.3, random_state=0)\n",
    "for train_index, test_index in sss.split(X, y):\n",
    "    X_train, X_test = X.iloc[train_index], X.iloc[test_index]\n",
    "    y_train, y_test = y.iloc[train_index], y.iloc[test_index]"
   ]
  },
  {
   "cell_type": "code",
   "execution_count": 21,
   "id": "58280e10",
   "metadata": {
    "execution": {
     "iopub.execute_input": "2023-09-04T18:14:24.769717Z",
     "iopub.status.busy": "2023-09-04T18:14:24.769054Z",
     "iopub.status.idle": "2023-09-04T18:16:46.546202Z",
     "shell.execute_reply": "2023-09-04T18:16:46.545540Z"
    }
   },
   "outputs": [
    {
     "name": "stdout",
     "output_type": "stream",
     "text": [
      "The best parameters are {'criterion': 'entropy', 'max_depth': 9, 'min_samples_leaf': 4} with a score of 0.87534\n"
     ]
    }
   ],
   "source": [
    "param_grid =  {\"criterion\": [\"gini\",\"entropy\"],\"min_samples_leaf\":[2,3,4,5,6,7,8,9,10,11,12],\"max_depth\":[1,2,3,4,5,6,7,8,9,10,11,12]}\n",
    "dt = DecisionTreeClassifier(random_state=0)\n",
    "cv = StratifiedKFold(n_splits=10)\n",
    "search = GridSearchCV(estimator=dt, param_grid=param_grid, cv = cv, scoring = \"balanced_accuracy\", n_jobs = -1)\n",
    "search.fit(X_train, y_train)\n",
    "print(\"The best parameters are %s with a score of %0.5f\"% (search.best_params_, search.best_score_))\n",
    "model = search.best_estimator_\n",
    "pickle.dump(model, open(\"models/wild_both_DT.pickle\", \"wb\"))"
   ]
  },
  {
   "cell_type": "code",
   "execution_count": 22,
   "id": "97fba791",
   "metadata": {
    "execution": {
     "iopub.execute_input": "2023-09-04T18:16:46.549615Z",
     "iopub.status.busy": "2023-09-04T18:16:46.549149Z",
     "iopub.status.idle": "2023-09-04T18:16:46.621324Z",
     "shell.execute_reply": "2023-09-04T18:16:46.620683Z"
    }
   },
   "outputs": [
    {
     "name": "stdout",
     "output_type": "stream",
     "text": [
      "The F1-score is 0.95970\n",
      "The balance accuracy is 0.89335\n",
      "The precision is 0.97434\n",
      "The recall is 0.94549\n",
      "              precision    recall  f1-score   support\n",
      "\n",
      "       False       0.71      0.84      0.77       233\n",
      "        True       0.97      0.95      0.96      1486\n",
      "\n",
      "    accuracy                           0.93      1719\n",
      "   macro avg       0.84      0.89      0.86      1719\n",
      "weighted avg       0.94      0.93      0.93      1719\n",
      "\n"
     ]
    }
   ],
   "source": [
    "y_pred = model.predict(X_test)\n",
    "print(\n",
    "    \"The F1-score is %0.5f\"\n",
    "    % (f1_score(y_test,y_pred))\n",
    ")\n",
    "print(\n",
    "    \"The balance accuracy is %0.5f\"\n",
    "    % (balanced_accuracy_score(y_test,y_pred))\n",
    ")\n",
    "print(\n",
    "    \"The precision is %0.5f\"\n",
    "    % (precision_score(y_test,y_pred))\n",
    ")\n",
    "print(\n",
    "    \"The recall is %0.5f\"\n",
    "    % (recall_score(y_test,y_pred))\n",
    ")\n",
    "print(classification_report(y_test,y_pred))"
   ]
  },
  {
   "cell_type": "code",
   "execution_count": 23,
   "id": "d26675ab",
   "metadata": {
    "execution": {
     "iopub.execute_input": "2023-09-04T18:16:47.543594Z",
     "iopub.status.busy": "2023-09-04T18:16:47.543236Z",
     "iopub.status.idle": "2023-09-04T19:47:02.617185Z",
     "shell.execute_reply": "2023-09-04T19:47:02.616375Z"
    }
   },
   "outputs": [
    {
     "name": "stdout",
     "output_type": "stream",
     "text": [
      "The best parameters are {'criterion': 'entropy', 'max_depth': 12, 'min_samples_leaf': 2, 'n_estimators': 35} with a score of 0.89332\n"
     ]
    }
   ],
   "source": [
    "param_grid =  {\"criterion\": [\"gini\",\"entropy\"],\"min_samples_leaf\":[2,3,4,5,6,7,8,9,10,11,12],\"max_depth\":[1,2,3,4,5,6,7,8,9,10,11,12],\"n_estimators\" : [i for i in range(10,40)]}\n",
    "rf = RandomForestClassifier(random_state = 0)\n",
    "cv = StratifiedKFold(n_splits=10)\n",
    "search = GridSearchCV(estimator=rf, param_grid=param_grid, cv = cv, scoring = \"balanced_accuracy\", n_jobs = -1)\n",
    "search.fit(X_train, y_train)\n",
    "print(\"The best parameters are %s with a score of %0.5f\"% (search.best_params_, search.best_score_))\n",
    "model = search.best_estimator_\n",
    "pickle.dump(model, open(\"models/wild_both_RF.pickle\", \"wb\"))"
   ]
  },
  {
   "cell_type": "code",
   "execution_count": 24,
   "id": "31aa25ec",
   "metadata": {
    "execution": {
     "iopub.execute_input": "2023-09-04T19:47:02.621432Z",
     "iopub.status.busy": "2023-09-04T19:47:02.620732Z",
     "iopub.status.idle": "2023-09-04T19:47:02.809814Z",
     "shell.execute_reply": "2023-09-04T19:47:02.808871Z"
    }
   },
   "outputs": [
    {
     "name": "stdout",
     "output_type": "stream",
     "text": [
      "The F1-score is 0.97615\n",
      "The balance accuracy is 0.90735\n",
      "The precision is 0.97451\n",
      "The recall is 0.97779\n",
      "              precision    recall  f1-score   support\n",
      "\n",
      "       False       0.86      0.84      0.85       233\n",
      "        True       0.97      0.98      0.98      1486\n",
      "\n",
      "    accuracy                           0.96      1719\n",
      "   macro avg       0.91      0.91      0.91      1719\n",
      "weighted avg       0.96      0.96      0.96      1719\n",
      "\n"
     ]
    }
   ],
   "source": [
    "y_pred = model.predict(X_test)\n",
    "print(\n",
    "    \"The F1-score is %0.5f\"\n",
    "    % (f1_score(y_test,y_pred))\n",
    ")\n",
    "print(\n",
    "    \"The balance accuracy is %0.5f\"\n",
    "    % (balanced_accuracy_score(y_test,y_pred))\n",
    ")\n",
    "print(\n",
    "    \"The precision is %0.5f\"\n",
    "    % (precision_score(y_test,y_pred))\n",
    ")\n",
    "print(\n",
    "    \"The recall is %0.5f\"\n",
    "    % (recall_score(y_test,y_pred))\n",
    ")\n",
    "print(classification_report(y_test,y_pred))"
   ]
  },
  {
   "cell_type": "code",
   "execution_count": 25,
   "id": "59a3a8bf",
   "metadata": {
    "execution": {
     "iopub.execute_input": "2023-09-04T19:47:21.269881Z",
     "iopub.status.busy": "2023-09-04T19:47:21.269619Z",
     "iopub.status.idle": "2023-09-04T20:33:16.777573Z",
     "shell.execute_reply": "2023-09-04T20:33:16.776522Z"
    }
   },
   "outputs": [
    {
     "name": "stdout",
     "output_type": "stream",
     "text": [
      "The best parameters are {'max_depth': 12, 'min_samples_leaf': 8, 'n_estimators': 40} with a score of 0.89398\n"
     ]
    }
   ],
   "source": [
    "param_grid = {\"min_samples_leaf\":[2,3,4,5,6,7,8,9,10,11,12],\"max_depth\":[1,2,3,4,5,6,7,8,9,10,11,12],\"n_estimators\" : [40]}\n",
    "gbdt = GradientBoostingClassifier(random_state = 0)\n",
    "cv = StratifiedKFold(n_splits=10)\n",
    "search = GridSearchCV(estimator=gbdt, param_grid=param_grid, cv = cv, scoring = \"balanced_accuracy\", n_jobs = -1)\n",
    "search.fit(X_train, y_train)\n",
    "print(\"The best parameters are %s with a score of %0.5f\"% (search.best_params_, search.best_score_))\n",
    "model = search.best_estimator_\n",
    "pickle.dump(model, open(\"models/wild_both_GBDT.pickle\", \"wb\"))"
   ]
  },
  {
   "cell_type": "code",
   "execution_count": 26,
   "id": "7af7931e",
   "metadata": {
    "execution": {
     "iopub.execute_input": "2023-09-04T20:33:16.784332Z",
     "iopub.status.busy": "2023-09-04T20:33:16.782529Z",
     "iopub.status.idle": "2023-09-04T20:33:16.872822Z",
     "shell.execute_reply": "2023-09-04T20:33:16.871913Z"
    }
   },
   "outputs": [
    {
     "name": "stdout",
     "output_type": "stream",
     "text": [
      "The F1-score is 0.97577\n",
      "The balance accuracy is 0.91063\n",
      "The precision is 0.97577\n",
      "The recall is 0.97577\n",
      "              precision    recall  f1-score   support\n",
      "\n",
      "       False       0.85      0.85      0.85       233\n",
      "        True       0.98      0.98      0.98      1486\n",
      "\n",
      "    accuracy                           0.96      1719\n",
      "   macro avg       0.91      0.91      0.91      1719\n",
      "weighted avg       0.96      0.96      0.96      1719\n",
      "\n"
     ]
    }
   ],
   "source": [
    "y_pred = model.predict(X_test)\n",
    "print(\n",
    "    \"The F1-score is %0.5f\"\n",
    "    % (f1_score(y_test,y_pred))\n",
    ")\n",
    "print(\n",
    "    \"The balance accuracy is %0.5f\"\n",
    "    % (balanced_accuracy_score(y_test,y_pred))\n",
    ")\n",
    "print(\n",
    "    \"The precision is %0.5f\"\n",
    "    % (precision_score(y_test,y_pred))\n",
    ")\n",
    "print(\n",
    "    \"The recall is %0.5f\"\n",
    "    % (recall_score(y_test,y_pred))\n",
    ")\n",
    "print(classification_report(y_test,y_pred))"
   ]
  },
  {
   "cell_type": "code",
   "execution_count": null,
   "id": "11c54f49",
   "metadata": {},
   "outputs": [],
   "source": []
  }
 ],
 "metadata": {
  "kernelspec": {
   "display_name": "Python 3 (ipykernel)",
   "language": "python",
   "name": "python3"
  },
  "language_info": {
   "codemirror_mode": {
    "name": "ipython",
    "version": 3
   },
   "file_extension": ".py",
   "mimetype": "text/x-python",
   "name": "python",
   "nbconvert_exporter": "python",
   "pygments_lexer": "ipython3",
   "version": "3.8.10"
  }
 },
 "nbformat": 4,
 "nbformat_minor": 5
}
