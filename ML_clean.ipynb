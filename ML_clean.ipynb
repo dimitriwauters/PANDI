{
 "cells": [
  {
   "cell_type": "code",
   "execution_count": 2,
   "id": "9fa2a352",
   "metadata": {
    "execution": {
     "iopub.execute_input": "2023-09-04T15:23:00.723238Z",
     "iopub.status.busy": "2023-09-04T15:23:00.722893Z",
     "iopub.status.idle": "2023-09-04T15:23:01.797505Z",
     "shell.execute_reply": "2023-09-04T15:23:01.796528Z"
    }
   },
   "outputs": [],
   "source": [
    "import sys\n",
    "import shap\n",
    "import pickle\n",
    "import numpy as np\n",
    "import pandas as pd\n",
    "import matplotlib.pyplot as plt\n",
    "from sklearn.utils import resample, shuffle\n",
    "from sklearn.tree import DecisionTreeClassifier, plot_tree\n",
    "from sklearn.ensemble import RandomForestClassifier, GradientBoostingClassifier\n",
    "from sklearn.model_selection import GridSearchCV, StratifiedKFold, StratifiedShuffleSplit\n",
    "from sklearn.metrics import balanced_accuracy_score, f1_score, precision_score, recall_score, classification_report\n",
    "\n",
    "with open(\"features/features_packed.csv\", \"r\") as f:\n",
    "  line = f.readline()\n",
    "  feature_names = line.split(\",\")\n",
    "  feature_names.remove(\"name\")\n",
    "  feature_names.remove(\"write_execute_size\")\n",
    "  feature_names.remove(\"initial_iat_dll\")\n",
    "  feature_names.remove(\"initial_iat_func\")\n",
    "  feature_names.remove(\"initial_iat_malicious_func\")\n",
    "  feature_names.remove(\"number_add_exec_permission\")\n",
    "  feature_names.remove(\"number_add_write_permisison\")\n",
    "\n",
    "packed = pd.read_csv(\"features/features_packed.csv\")\n",
    "notpacked = pd.read_csv(\"features/features_notpacked.csv\")\n",
    "\n",
    "packed1 = pd.read_csv(\"features/static_features_packed.csv\")\n",
    "notpacked1 = pd.read_csv(\"features/static_features_notpacked.csv\")\n",
    "\n",
    "packed = packed.merge(packed1[[\"name\"]], on='name')\n",
    "notpacked = notpacked.merge(notpacked1[[\"name\"]], on='name')\n",
    "\n",
    "X = pd.concat([packed,notpacked], ignore_index = True)\n",
    "X = X.drop([\"name\",\"write_execute_size\",\"initial_iat_dll\",\"initial_iat_func\",\"initial_iat_malicious_func\",\"number_add_exec_permission\",\"number_add_write_permisison\"], axis = 1)\n",
    "y = np.append(np.ones(len(packed)),np.zeros(len(notpacked)))\n",
    "\n",
    "sss = StratifiedShuffleSplit(n_splits=1, test_size=0.3, random_state=0)\n",
    "for train_index, test_index in sss.split(X, y):\n",
    "    X_train, X_test = X.iloc[train_index], X.iloc[test_index]\n",
    "    y_train, y_test = y[train_index], y[test_index]"
   ]
  },
  {
   "cell_type": "code",
   "execution_count": 3,
   "id": "9042f74b",
   "metadata": {
    "execution": {
     "iopub.execute_input": "2023-09-04T15:23:01.901762Z",
     "iopub.status.busy": "2023-09-04T15:23:01.901351Z",
     "iopub.status.idle": "2023-09-04T15:23:16.807673Z",
     "shell.execute_reply": "2023-09-04T15:23:16.807166Z"
    }
   },
   "outputs": [
    {
     "name": "stdout",
     "output_type": "stream",
     "text": [
      "The best parameters are {'criterion': 'entropy', 'max_depth': 4, 'min_samples_leaf': 2} with a score of 0.98398\n"
     ]
    }
   ],
   "source": [
    "param_grid =  {\"criterion\": [\"gini\",\"entropy\"],\"min_samples_leaf\":[2,3,4,5,6,7,8,9,10,11,12],\"max_depth\":[1,2,3,4,5,6,7,8,9,10,11,12]}\n",
    "dt = DecisionTreeClassifier(random_state=0)\n",
    "cv = StratifiedKFold(n_splits=10)\n",
    "search = GridSearchCV(estimator=dt, param_grid=param_grid, cv = cv, scoring = \"balanced_accuracy\", n_jobs = -1)\n",
    "search.fit(X_train, y_train)\n",
    "print(\"The best parameters are %s with a score of %0.5f\"% (search.best_params_, search.best_score_))\n",
    "model = search.best_estimator_\n",
    "pickle.dump(model, open(\"models/clean_dynamic_DT.pickle\", \"wb\"))"
   ]
  },
  {
   "cell_type": "code",
   "execution_count": 4,
   "id": "b62627f9",
   "metadata": {
    "execution": {
     "iopub.execute_input": "2023-09-04T15:23:16.811295Z",
     "iopub.status.busy": "2023-09-04T15:23:16.810881Z",
     "iopub.status.idle": "2023-09-04T15:23:16.857166Z",
     "shell.execute_reply": "2023-09-04T15:23:16.856782Z"
    }
   },
   "outputs": [
    {
     "name": "stdout",
     "output_type": "stream",
     "text": [
      "The F1-score is 0.99465\n",
      "The balance accuracy is 0.97435\n",
      "The precision is 0.99112\n",
      "The recall is 0.99821\n",
      "              precision    recall  f1-score   support\n",
      "\n",
      "         0.0       0.99      0.95      0.97       101\n",
      "         1.0       0.99      1.00      0.99       559\n",
      "\n",
      "    accuracy                           0.99       660\n",
      "   macro avg       0.99      0.97      0.98       660\n",
      "weighted avg       0.99      0.99      0.99       660\n",
      "\n"
     ]
    }
   ],
   "source": [
    "y_pred = model.predict(X_test)\n",
    "print(\n",
    "    \"The F1-score is %0.5f\"\n",
    "    % (f1_score(y_test,y_pred))\n",
    ")\n",
    "print(\n",
    "    \"The balance accuracy is %0.5f\"\n",
    "    % (balanced_accuracy_score(y_test,y_pred))\n",
    ")\n",
    "print(\n",
    "    \"The precision is %0.5f\"\n",
    "    % (precision_score(y_test,y_pred))\n",
    ")\n",
    "print(\n",
    "    \"The recall is %0.5f\"\n",
    "    % (recall_score(y_test,y_pred))\n",
    ")\n",
    "print(classification_report(y_test,y_pred))"
   ]
  },
  {
   "cell_type": "code",
   "execution_count": 5,
   "id": "ec7f4000",
   "metadata": {
    "execution": {
     "iopub.execute_input": "2023-09-04T15:23:17.427465Z",
     "iopub.status.busy": "2023-09-04T15:23:17.426689Z",
     "iopub.status.idle": "2023-09-04T15:41:33.273980Z",
     "shell.execute_reply": "2023-09-04T15:41:33.273380Z"
    }
   },
   "outputs": [
    {
     "name": "stdout",
     "output_type": "stream",
     "text": [
      "The best parameters are {'criterion': 'gini', 'max_depth': 7, 'min_samples_leaf': 2, 'n_estimators': 39} with a score of 0.99366\n"
     ]
    }
   ],
   "source": [
    "param_grid =  {\"criterion\": [\"gini\",\"entropy\"],\"min_samples_leaf\":[2,3,4,5,6,7,8,9,10,11,12],\"max_depth\":[1,2,3,4,5,6,7,8,9,10,11,12],\"n_estimators\" : [i for i in range(10,40)]}\n",
    "rf = RandomForestClassifier(random_state = 0)\n",
    "cv = StratifiedKFold(n_splits=10)\n",
    "search = GridSearchCV(estimator=rf, param_grid=param_grid, cv = cv, scoring = \"balanced_accuracy\", n_jobs = -1)\n",
    "search.fit(X_train, y_train)\n",
    "print(\"The best parameters are %s with a score of %0.5f\"% (search.best_params_, search.best_score_))\n",
    "model = search.best_estimator_\n",
    "pickle.dump(model, open(\"models/clean_dynamic_RF.pickle\", \"wb\"))"
   ]
  },
  {
   "cell_type": "code",
   "execution_count": 6,
   "id": "5c9a1b54",
   "metadata": {
    "execution": {
     "iopub.execute_input": "2023-09-04T15:41:33.277478Z",
     "iopub.status.busy": "2023-09-04T15:41:33.276911Z",
     "iopub.status.idle": "2023-09-04T15:41:33.343350Z",
     "shell.execute_reply": "2023-09-04T15:41:33.342637Z"
    }
   },
   "outputs": [
    {
     "name": "stdout",
     "output_type": "stream",
     "text": [
      "The F1-score is 0.99732\n",
      "The balance accuracy is 0.98515\n",
      "The precision is 0.99466\n",
      "The recall is 1.00000\n",
      "              precision    recall  f1-score   support\n",
      "\n",
      "         0.0       1.00      0.97      0.98       101\n",
      "         1.0       0.99      1.00      1.00       559\n",
      "\n",
      "    accuracy                           1.00       660\n",
      "   macro avg       1.00      0.99      0.99       660\n",
      "weighted avg       1.00      1.00      1.00       660\n",
      "\n"
     ]
    }
   ],
   "source": [
    "y_pred = model.predict(X_test)\n",
    "print(\n",
    "    \"The F1-score is %0.5f\"\n",
    "    % (f1_score(y_test,y_pred))\n",
    ")\n",
    "print(\n",
    "    \"The balance accuracy is %0.5f\"\n",
    "    % (balanced_accuracy_score(y_test,y_pred))\n",
    ")\n",
    "print(\n",
    "    \"The precision is %0.5f\"\n",
    "    % (precision_score(y_test,y_pred))\n",
    ")\n",
    "print(\n",
    "    \"The recall is %0.5f\"\n",
    "    % (recall_score(y_test,y_pred))\n",
    ")\n",
    "print(classification_report(y_test,y_pred))"
   ]
  },
  {
   "cell_type": "code",
   "execution_count": 7,
   "id": "dd97a003",
   "metadata": {
    "execution": {
     "iopub.execute_input": "2023-09-04T15:41:34.071158Z",
     "iopub.status.busy": "2023-09-04T15:41:34.070957Z",
     "iopub.status.idle": "2023-09-04T15:46:49.425858Z",
     "shell.execute_reply": "2023-09-04T15:46:49.425409Z"
    }
   },
   "outputs": [
    {
     "name": "stdout",
     "output_type": "stream",
     "text": [
      "The best parameters are {'max_depth': 5, 'min_samples_leaf': 12, 'n_estimators': 40} with a score of 0.99101\n"
     ]
    }
   ],
   "source": [
    "param_grid = {\"min_samples_leaf\":[2,3,4,5,6,7,8,9,10,11,12],\"max_depth\":[1,2,3,4,5,6,7,8,9,10,11,12],\"n_estimators\" : [40]}\n",
    "gbdt = GradientBoostingClassifier(random_state = 0)\n",
    "cv = StratifiedKFold(n_splits=10)\n",
    "search = GridSearchCV(estimator=gbdt, param_grid=param_grid, cv = cv, scoring = \"balanced_accuracy\", n_jobs = -1)\n",
    "search.fit(X_train, y_train)\n",
    "print(\"The best parameters are %s with a score of %0.5f\"% (search.best_params_, search.best_score_))\n",
    "model = search.best_estimator_\n",
    "pickle.dump(model, open(\"models/clean_dynamic_GBDT.pickle\", \"wb\"))"
   ]
  },
  {
   "cell_type": "code",
   "execution_count": 8,
   "id": "dc16a9ab",
   "metadata": {
    "execution": {
     "iopub.execute_input": "2023-09-04T15:46:49.428446Z",
     "iopub.status.busy": "2023-09-04T15:46:49.428102Z",
     "iopub.status.idle": "2023-09-04T15:46:49.475774Z",
     "shell.execute_reply": "2023-09-04T15:46:49.475389Z"
    }
   },
   "outputs": [
    {
     "name": "stdout",
     "output_type": "stream",
     "text": [
      "The F1-score is 0.99643\n",
      "The balance accuracy is 0.98425\n",
      "The precision is 0.99465\n",
      "The recall is 0.99821\n",
      "              precision    recall  f1-score   support\n",
      "\n",
      "         0.0       0.99      0.97      0.98       101\n",
      "         1.0       0.99      1.00      1.00       559\n",
      "\n",
      "    accuracy                           0.99       660\n",
      "   macro avg       0.99      0.98      0.99       660\n",
      "weighted avg       0.99      0.99      0.99       660\n",
      "\n"
     ]
    }
   ],
   "source": [
    "y_pred = model.predict(X_test)\n",
    "print(\n",
    "    \"The F1-score is %0.5f\"\n",
    "    % (f1_score(y_test,y_pred))\n",
    ")\n",
    "print(\n",
    "    \"The balance accuracy is %0.5f\"\n",
    "    % (balanced_accuracy_score(y_test,y_pred))\n",
    ")\n",
    "print(\n",
    "    \"The precision is %0.5f\"\n",
    "    % (precision_score(y_test,y_pred))\n",
    ")\n",
    "print(\n",
    "    \"The recall is %0.5f\"\n",
    "    % (recall_score(y_test,y_pred))\n",
    ")\n",
    "print(classification_report(y_test,y_pred))"
   ]
  },
  {
   "cell_type": "code",
   "execution_count": 9,
   "id": "6fa5114b",
   "metadata": {
    "execution": {
     "iopub.execute_input": "2023-09-04T15:46:49.478259Z",
     "iopub.status.busy": "2023-09-04T15:46:49.477696Z",
     "iopub.status.idle": "2023-09-04T15:46:49.550693Z",
     "shell.execute_reply": "2023-09-04T15:46:49.549722Z"
    }
   },
   "outputs": [],
   "source": [
    "with open(\"features/static_features_packed.csv\", \"r\") as f:\n",
    "  line = f.readline()\n",
    "  feature_names = line.split(\",\")\n",
    "  feature_names.remove(\"name\")\n",
    "\n",
    "packed = pd.read_csv(\"features/static_features_packed.csv\")\n",
    "notpacked = pd.read_csv(\"features/static_features_notpacked.csv\")\n",
    "\n",
    "packed1 = pd.read_csv(\"features/features_packed.csv\")\n",
    "notpacked1 = pd.read_csv(\"features/features_notpacked.csv\")\n",
    "\n",
    "packed = packed.merge(packed1[[\"name\"]], on='name')\n",
    "notpacked = notpacked.merge(notpacked1[[\"name\"]], on='name')\n",
    "\n",
    "X = pd.concat([packed,notpacked], ignore_index = True)\n",
    "X = X.drop([\"name\"], axis = 1)\n",
    "y = np.append(np.ones(len(packed)),np.zeros(len(notpacked)))\n",
    "\n",
    "\n",
    "sss = StratifiedShuffleSplit(n_splits=1, test_size=0.3, random_state=0)\n",
    "for train_index, test_index in sss.split(X, y):\n",
    "    X_train, X_test = X.iloc[train_index], X.iloc[test_index]\n",
    "    y_train, y_test = y[train_index], y[test_index]"
   ]
  },
  {
   "cell_type": "code",
   "execution_count": 10,
   "id": "4a90afc9",
   "metadata": {
    "execution": {
     "iopub.execute_input": "2023-09-04T15:46:49.906155Z",
     "iopub.status.busy": "2023-09-04T15:46:49.905564Z",
     "iopub.status.idle": "2023-09-04T15:47:00.130447Z",
     "shell.execute_reply": "2023-09-04T15:47:00.129927Z"
    }
   },
   "outputs": [
    {
     "name": "stdout",
     "output_type": "stream",
     "text": [
      "The best parameters are {'criterion': 'entropy', 'max_depth': 3, 'min_samples_leaf': 2} with a score of 0.99092\n"
     ]
    }
   ],
   "source": [
    "param_grid =  {\"criterion\": [\"gini\",\"entropy\"],\"min_samples_leaf\":[2,3,4,5,6,7,8,9,10,11,12],\"max_depth\":[1,2,3,4,5,6,7,8,9,10,11,12]}\n",
    "dt = DecisionTreeClassifier(random_state=0)\n",
    "cv = StratifiedKFold(n_splits=10)\n",
    "search = GridSearchCV(estimator=dt, param_grid=param_grid, cv = cv, scoring = \"balanced_accuracy\", n_jobs = -1)\n",
    "search.fit(X_train, y_train)\n",
    "print(\"The best parameters are %s with a score of %0.5f\"% (search.best_params_, search.best_score_))\n",
    "model = search.best_estimator_\n",
    "pickle.dump(model, open(\"models/clean_static_DT.pickle\", \"wb\"))"
   ]
  },
  {
   "cell_type": "code",
   "execution_count": 11,
   "id": "d4be5bc8",
   "metadata": {
    "execution": {
     "iopub.execute_input": "2023-09-04T15:47:00.133081Z",
     "iopub.status.busy": "2023-09-04T15:47:00.132765Z",
     "iopub.status.idle": "2023-09-04T15:47:00.174746Z",
     "shell.execute_reply": "2023-09-04T15:47:00.174246Z"
    }
   },
   "outputs": [
    {
     "name": "stdout",
     "output_type": "stream",
     "text": [
      "The F1-score is 0.99821\n",
      "The balance accuracy is 0.99010\n",
      "The precision is 0.99643\n",
      "The recall is 1.00000\n",
      "              precision    recall  f1-score   support\n",
      "\n",
      "         0.0       1.00      0.98      0.99       101\n",
      "         1.0       1.00      1.00      1.00       559\n",
      "\n",
      "    accuracy                           1.00       660\n",
      "   macro avg       1.00      0.99      0.99       660\n",
      "weighted avg       1.00      1.00      1.00       660\n",
      "\n"
     ]
    }
   ],
   "source": [
    "y_pred = model.predict(X_test)\n",
    "print(\n",
    "    \"The F1-score is %0.5f\"\n",
    "    % (f1_score(y_test,y_pred))\n",
    ")\n",
    "print(\n",
    "    \"The balance accuracy is %0.5f\"\n",
    "    % (balanced_accuracy_score(y_test,y_pred))\n",
    ")\n",
    "print(\n",
    "    \"The precision is %0.5f\"\n",
    "    % (precision_score(y_test,y_pred))\n",
    ")\n",
    "print(\n",
    "    \"The recall is %0.5f\"\n",
    "    % (recall_score(y_test,y_pred))\n",
    ")\n",
    "print(classification_report(y_test,y_pred))"
   ]
  },
  {
   "cell_type": "code",
   "execution_count": 12,
   "id": "3f0768dc",
   "metadata": {
    "execution": {
     "iopub.execute_input": "2023-09-04T15:47:00.542964Z",
     "iopub.status.busy": "2023-09-04T15:47:00.542628Z",
     "iopub.status.idle": "2023-09-04T16:01:23.870166Z",
     "shell.execute_reply": "2023-09-04T16:01:23.869493Z"
    }
   },
   "outputs": [
    {
     "name": "stdout",
     "output_type": "stream",
     "text": [
      "The best parameters are {'criterion': 'gini', 'max_depth': 3, 'min_samples_leaf': 2, 'n_estimators': 22} with a score of 0.99783\n"
     ]
    }
   ],
   "source": [
    "param_grid =  {\"criterion\": [\"gini\",\"entropy\"],\"min_samples_leaf\":[2,3,4,5,6,7,8,9,10,11,12],\"max_depth\":[1,2,3,4,5,6,7,8,9,10,11,12],\"n_estimators\" : [i for i in range(10,40)]}\n",
    "rf = RandomForestClassifier(random_state = 0)\n",
    "cv = StratifiedKFold(n_splits=10)\n",
    "search = GridSearchCV(estimator=rf, param_grid=param_grid, cv = cv, scoring = \"balanced_accuracy\", n_jobs = -1)\n",
    "search.fit(X_train, y_train)\n",
    "print(\"The best parameters are %s with a score of %0.5f\"% (search.best_params_, search.best_score_))\n",
    "model = search.best_estimator_\n",
    "pickle.dump(model, open(\"models/clean_static_RF.pickle\", \"wb\"))"
   ]
  },
  {
   "cell_type": "code",
   "execution_count": 13,
   "id": "901d2927",
   "metadata": {
    "execution": {
     "iopub.execute_input": "2023-09-04T16:01:23.873401Z",
     "iopub.status.busy": "2023-09-04T16:01:23.873185Z",
     "iopub.status.idle": "2023-09-04T16:01:23.926687Z",
     "shell.execute_reply": "2023-09-04T16:01:23.926100Z"
    }
   },
   "outputs": [
    {
     "name": "stdout",
     "output_type": "stream",
     "text": [
      "The F1-score is 0.99732\n",
      "The balance accuracy is 0.98515\n",
      "The precision is 0.99466\n",
      "The recall is 1.00000\n",
      "              precision    recall  f1-score   support\n",
      "\n",
      "         0.0       1.00      0.97      0.98       101\n",
      "         1.0       0.99      1.00      1.00       559\n",
      "\n",
      "    accuracy                           1.00       660\n",
      "   macro avg       1.00      0.99      0.99       660\n",
      "weighted avg       1.00      1.00      1.00       660\n",
      "\n"
     ]
    }
   ],
   "source": [
    "y_pred = model.predict(X_test)\n",
    "print(\n",
    "    \"The F1-score is %0.5f\"\n",
    "    % (f1_score(y_test,y_pred))\n",
    ")\n",
    "print(\n",
    "    \"The balance accuracy is %0.5f\"\n",
    "    % (balanced_accuracy_score(y_test,y_pred))\n",
    ")\n",
    "print(\n",
    "    \"The precision is %0.5f\"\n",
    "    % (precision_score(y_test,y_pred))\n",
    ")\n",
    "print(\n",
    "    \"The recall is %0.5f\"\n",
    "    % (recall_score(y_test,y_pred))\n",
    ")\n",
    "print(classification_report(y_test,y_pred))"
   ]
  },
  {
   "cell_type": "code",
   "execution_count": 14,
   "id": "d87f3279",
   "metadata": {
    "execution": {
     "iopub.execute_input": "2023-09-04T16:01:24.323661Z",
     "iopub.status.busy": "2023-09-04T16:01:24.323470Z",
     "iopub.status.idle": "2023-09-04T16:05:19.591755Z",
     "shell.execute_reply": "2023-09-04T16:05:19.591189Z"
    }
   },
   "outputs": [
    {
     "name": "stdout",
     "output_type": "stream",
     "text": [
      "The best parameters are {'max_depth': 3, 'min_samples_leaf': 10, 'n_estimators': 40} with a score of 0.99348\n"
     ]
    }
   ],
   "source": [
    "param_grid = {\"min_samples_leaf\":[2,3,4,5,6,7,8,9,10,11,12],\"max_depth\":[1,2,3,4,5,6,7,8,9,10,11,12],\"n_estimators\" : [40]}\n",
    "gbdt = GradientBoostingClassifier(random_state = 0)\n",
    "cv = StratifiedKFold(n_splits=10)\n",
    "search = GridSearchCV(estimator=gbdt, param_grid=param_grid, cv = cv, scoring = \"balanced_accuracy\", n_jobs = -1)\n",
    "search.fit(X_train, y_train)\n",
    "print(\"The best parameters are %s with a score of %0.5f\"% (search.best_params_, search.best_score_))\n",
    "model = search.best_estimator_\n",
    "pickle.dump(model, open(\"models/clean_static_GBDT.pickle\", \"wb\"))"
   ]
  },
  {
   "cell_type": "code",
   "execution_count": 15,
   "id": "ca0d2b96",
   "metadata": {
    "execution": {
     "iopub.execute_input": "2023-09-04T16:05:19.594704Z",
     "iopub.status.busy": "2023-09-04T16:05:19.594087Z",
     "iopub.status.idle": "2023-09-04T16:05:19.640499Z",
     "shell.execute_reply": "2023-09-04T16:05:19.640001Z"
    }
   },
   "outputs": [
    {
     "name": "stdout",
     "output_type": "stream",
     "text": [
      "The F1-score is 1.00000\n",
      "The balance accuracy is 1.00000\n",
      "The precision is 1.00000\n",
      "The recall is 1.00000\n",
      "              precision    recall  f1-score   support\n",
      "\n",
      "         0.0       1.00      1.00      1.00       101\n",
      "         1.0       1.00      1.00      1.00       559\n",
      "\n",
      "    accuracy                           1.00       660\n",
      "   macro avg       1.00      1.00      1.00       660\n",
      "weighted avg       1.00      1.00      1.00       660\n",
      "\n"
     ]
    }
   ],
   "source": [
    "y_pred = model.predict(X_test)\n",
    "print(\n",
    "    \"The F1-score is %0.5f\"\n",
    "    % (f1_score(y_test,y_pred))\n",
    ")\n",
    "print(\n",
    "    \"The balance accuracy is %0.5f\"\n",
    "    % (balanced_accuracy_score(y_test,y_pred))\n",
    ")\n",
    "print(\n",
    "    \"The precision is %0.5f\"\n",
    "    % (precision_score(y_test,y_pred))\n",
    ")\n",
    "print(\n",
    "    \"The recall is %0.5f\"\n",
    "    % (recall_score(y_test,y_pred))\n",
    ")\n",
    "print(classification_report(y_test,y_pred))"
   ]
  },
  {
   "cell_type": "code",
   "execution_count": 16,
   "id": "225166df",
   "metadata": {
    "execution": {
     "iopub.execute_input": "2023-09-04T16:05:19.642972Z",
     "iopub.status.busy": "2023-09-04T16:05:19.642547Z",
     "iopub.status.idle": "2023-09-04T16:05:19.706898Z",
     "shell.execute_reply": "2023-09-04T16:05:19.706405Z"
    }
   },
   "outputs": [],
   "source": [
    "with open(\"features/static_features_packed.csv\", \"r\") as f:\n",
    "  line = f.readline()\n",
    "  static_feature_names = line.split(\",\")\n",
    "  static_feature_names.pop(0) \n",
    "\n",
    "with open(\"features/features_packed.csv\", \"r\") as f:\n",
    "  line = f.readline()\n",
    "  feature_names = line.split(\",\")\n",
    "  feature_names.remove(\"name\")\n",
    "  feature_names.remove(\"write_execute_size\")\n",
    "  feature_names.remove(\"initial_iat_dll\")\n",
    "  feature_names.remove(\"initial_iat_func\")\n",
    "  feature_names.remove(\"initial_iat_malicious_func\")\n",
    "  feature_names.remove(\"number_add_exec_permission\")\n",
    "  feature_names.remove(\"number_add_write_permisison\")\n",
    "\n",
    "feature_names = np.concatenate((feature_names,static_feature_names),axis=None)\n",
    "\n",
    "packed = pd.read_csv(\"features/features_packed.csv\")\n",
    "packed_static = pd.read_csv(\"features/static_features_packed.csv\")\n",
    "packed = packed.merge(packed_static, on='name')\n",
    "\n",
    "notpacked = pd.read_csv(\"features/features_notpacked.csv\")\n",
    "notpacked_static = pd.read_csv(\"features/static_features_notpacked.csv\")\n",
    "notpacked = notpacked.merge(notpacked_static, on='name')\n",
    "\n",
    "X = pd.concat([packed,notpacked], ignore_index = True)\n",
    "X = X.drop([\"name\",\"write_execute_size\",\"initial_iat_dll\",\"initial_iat_func\",\"initial_iat_malicious_func\",\"number_add_exec_permission\",\"number_add_write_permisison\"], axis = 1)\n",
    "y = np.append(np.ones(len(packed)),np.zeros(len(notpacked)))\n",
    "\n",
    "sss = StratifiedShuffleSplit(n_splits=1, test_size=0.3, random_state=0)\n",
    "for train_index, test_index in sss.split(X, y):\n",
    "    X_train, X_test = X.iloc[train_index], X.iloc[test_index]\n",
    "    y_train, y_test = y[train_index], y[test_index]"
   ]
  },
  {
   "cell_type": "code",
   "execution_count": 17,
   "id": "34baaa53",
   "metadata": {
    "execution": {
     "iopub.execute_input": "2023-09-04T16:05:20.048501Z",
     "iopub.status.busy": "2023-09-04T16:05:20.047925Z",
     "iopub.status.idle": "2023-09-04T16:05:41.163863Z",
     "shell.execute_reply": "2023-09-04T16:05:41.163285Z"
    }
   },
   "outputs": [
    {
     "name": "stdout",
     "output_type": "stream",
     "text": [
      "The best parameters are {'criterion': 'entropy', 'max_depth': 3, 'min_samples_leaf': 3} with a score of 0.99375\n"
     ]
    }
   ],
   "source": [
    "param_grid =  {\"criterion\": [\"gini\",\"entropy\"],\"min_samples_leaf\":[2,3,4,5,6,7,8,9,10,11,12],\"max_depth\":[1,2,3,4,5,6,7,8,9,10,11,12]}\n",
    "dt = DecisionTreeClassifier(random_state=0)\n",
    "cv = StratifiedKFold(n_splits=10)\n",
    "search = GridSearchCV(estimator=dt, param_grid=param_grid, cv = cv, scoring = \"balanced_accuracy\", n_jobs = -1)\n",
    "search.fit(X_train, y_train)\n",
    "print(\"The best parameters are %s with a score of %0.5f\"% (search.best_params_, search.best_score_))\n",
    "model = search.best_estimator_\n",
    "pickle.dump(model, open(\"models/clean_both_DT.pickle\", \"wb\"))"
   ]
  },
  {
   "cell_type": "code",
   "execution_count": 18,
   "id": "5b927e12",
   "metadata": {
    "execution": {
     "iopub.execute_input": "2023-09-04T16:05:41.166690Z",
     "iopub.status.busy": "2023-09-04T16:05:41.166072Z",
     "iopub.status.idle": "2023-09-04T16:05:41.212979Z",
     "shell.execute_reply": "2023-09-04T16:05:41.212336Z"
    }
   },
   "outputs": [
    {
     "name": "stdout",
     "output_type": "stream",
     "text": [
      "The F1-score is 0.99732\n",
      "The balance accuracy is 0.98515\n",
      "The precision is 0.99466\n",
      "The recall is 1.00000\n",
      "              precision    recall  f1-score   support\n",
      "\n",
      "         0.0       1.00      0.97      0.98       101\n",
      "         1.0       0.99      1.00      1.00       559\n",
      "\n",
      "    accuracy                           1.00       660\n",
      "   macro avg       1.00      0.99      0.99       660\n",
      "weighted avg       1.00      1.00      1.00       660\n",
      "\n"
     ]
    }
   ],
   "source": [
    "y_pred = model.predict(X_test)\n",
    "print(\n",
    "    \"The F1-score is %0.5f\"\n",
    "    % (f1_score(y_test,y_pred))\n",
    ")\n",
    "print(\n",
    "    \"The balance accuracy is %0.5f\"\n",
    "    % (balanced_accuracy_score(y_test,y_pred))\n",
    ")\n",
    "print(\n",
    "    \"The precision is %0.5f\"\n",
    "    % (precision_score(y_test,y_pred))\n",
    ")\n",
    "print(\n",
    "    \"The recall is %0.5f\"\n",
    "    % (recall_score(y_test,y_pred))\n",
    ")\n",
    "print(classification_report(y_test,y_pred))"
   ]
  },
  {
   "cell_type": "code",
   "execution_count": 19,
   "id": "402f7faf",
   "metadata": {
    "execution": {
     "iopub.execute_input": "2023-09-04T16:05:41.626950Z",
     "iopub.status.busy": "2023-09-04T16:05:41.626394Z",
     "iopub.status.idle": "2023-09-04T16:25:21.072924Z",
     "shell.execute_reply": "2023-09-04T16:25:21.071787Z"
    }
   },
   "outputs": [
    {
     "name": "stdout",
     "output_type": "stream",
     "text": [
      "The best parameters are {'criterion': 'entropy', 'max_depth': 4, 'min_samples_leaf': 2, 'n_estimators': 12} with a score of 0.99792\n"
     ]
    }
   ],
   "source": [
    "param_grid =  {\"criterion\": [\"gini\",\"entropy\"],\"min_samples_leaf\":[2,3,4,5,6,7,8,9,10,11,12],\"max_depth\":[1,2,3,4,5,6,7,8,9,10,11,12],\"n_estimators\" : [i for i in range(10,40)]}\n",
    "rf = RandomForestClassifier(random_state = 0)\n",
    "cv = StratifiedKFold(n_splits=10)\n",
    "search = GridSearchCV(estimator=rf, param_grid=param_grid, cv = cv, scoring = \"balanced_accuracy\", n_jobs = -1)\n",
    "search.fit(X_train, y_train)\n",
    "print(\"The best parameters are %s with a score of %0.5f\"% (search.best_params_, search.best_score_))\n",
    "model = search.best_estimator_\n",
    "pickle.dump(model, open(\"models/clean_both_RF.pickle\", \"wb\"))"
   ]
  },
  {
   "cell_type": "code",
   "execution_count": 20,
   "id": "7502a42e",
   "metadata": {
    "execution": {
     "iopub.execute_input": "2023-09-04T16:25:21.076054Z",
     "iopub.status.busy": "2023-09-04T16:25:21.075836Z",
     "iopub.status.idle": "2023-09-04T16:25:21.128404Z",
     "shell.execute_reply": "2023-09-04T16:25:21.127785Z"
    }
   },
   "outputs": [
    {
     "name": "stdout",
     "output_type": "stream",
     "text": [
      "The F1-score is 0.99821\n",
      "The balance accuracy is 0.99010\n",
      "The precision is 0.99643\n",
      "The recall is 1.00000\n",
      "              precision    recall  f1-score   support\n",
      "\n",
      "         0.0       1.00      0.98      0.99       101\n",
      "         1.0       1.00      1.00      1.00       559\n",
      "\n",
      "    accuracy                           1.00       660\n",
      "   macro avg       1.00      0.99      0.99       660\n",
      "weighted avg       1.00      1.00      1.00       660\n",
      "\n"
     ]
    }
   ],
   "source": [
    "y_pred = model.predict(X_test)\n",
    "print(\n",
    "    \"The F1-score is %0.5f\"\n",
    "    % (f1_score(y_test,y_pred))\n",
    ")\n",
    "print(\n",
    "    \"The balance accuracy is %0.5f\"\n",
    "    % (balanced_accuracy_score(y_test,y_pred))\n",
    ")\n",
    "print(\n",
    "    \"The precision is %0.5f\"\n",
    "    % (precision_score(y_test,y_pred))\n",
    ")\n",
    "print(\n",
    "    \"The recall is %0.5f\"\n",
    "    % (recall_score(y_test,y_pred))\n",
    ")\n",
    "print(classification_report(y_test,y_pred))"
   ]
  },
  {
   "cell_type": "code",
   "execution_count": 21,
   "id": "023d77c9",
   "metadata": {
    "execution": {
     "iopub.execute_input": "2023-09-04T16:25:21.524023Z",
     "iopub.status.busy": "2023-09-04T16:25:21.523832Z",
     "iopub.status.idle": "2023-09-04T16:34:14.799279Z",
     "shell.execute_reply": "2023-09-04T16:34:14.798700Z"
    }
   },
   "outputs": [
    {
     "name": "stdout",
     "output_type": "stream",
     "text": [
      "The best parameters are {'max_depth': 3, 'min_samples_leaf': 12, 'n_estimators': 40} with a score of 1.00000\n"
     ]
    }
   ],
   "source": [
    "param_grid = {\"min_samples_leaf\":[2,3,4,5,6,7,8,9,10,11,12],\"max_depth\":[1,2,3,4,5,6,7,8,9,10,11,12],\"n_estimators\" : [40]}\n",
    "gbdt = GradientBoostingClassifier(random_state = 0)\n",
    "cv = StratifiedKFold(n_splits=10)\n",
    "search = GridSearchCV(estimator=gbdt, param_grid=param_grid, cv = cv, scoring = \"balanced_accuracy\", n_jobs = -1)\n",
    "search.fit(X_train, y_train)\n",
    "print(\"The best parameters are %s with a score of %0.5f\"% (search.best_params_, search.best_score_))\n",
    "model = search.best_estimator_\n",
    "pickle.dump(model, open(\"models/clean_both_GBDT.pickle\", \"wb\"))"
   ]
  },
  {
   "cell_type": "code",
   "execution_count": 22,
   "id": "6c0bb924",
   "metadata": {
    "execution": {
     "iopub.execute_input": "2023-09-04T16:34:14.801656Z",
     "iopub.status.busy": "2023-09-04T16:34:14.801462Z",
     "iopub.status.idle": "2023-09-04T16:34:14.854353Z",
     "shell.execute_reply": "2023-09-04T16:34:14.853783Z"
    }
   },
   "outputs": [
    {
     "name": "stdout",
     "output_type": "stream",
     "text": [
      "The F1-score is 0.99821\n",
      "The balance accuracy is 0.99010\n",
      "The precision is 0.99643\n",
      "The recall is 1.00000\n",
      "              precision    recall  f1-score   support\n",
      "\n",
      "         0.0       1.00      0.98      0.99       101\n",
      "         1.0       1.00      1.00      1.00       559\n",
      "\n",
      "    accuracy                           1.00       660\n",
      "   macro avg       1.00      0.99      0.99       660\n",
      "weighted avg       1.00      1.00      1.00       660\n",
      "\n"
     ]
    }
   ],
   "source": [
    "y_pred = model.predict(X_test)\n",
    "print(\n",
    "    \"The F1-score is %0.5f\"\n",
    "    % (f1_score(y_test,y_pred))\n",
    ")\n",
    "print(\n",
    "    \"The balance accuracy is %0.5f\"\n",
    "    % (balanced_accuracy_score(y_test,y_pred))\n",
    ")\n",
    "print(\n",
    "    \"The precision is %0.5f\"\n",
    "    % (precision_score(y_test,y_pred))\n",
    ")\n",
    "print(\n",
    "    \"The recall is %0.5f\"\n",
    "    % (recall_score(y_test,y_pred))\n",
    ")\n",
    "print(classification_report(y_test,y_pred))"
   ]
  }
 ],
 "metadata": {
  "kernelspec": {
   "display_name": "Python 3 (ipykernel)",
   "language": "python",
   "name": "python3"
  },
  "language_info": {
   "codemirror_mode": {
    "name": "ipython",
    "version": 3
   },
   "file_extension": ".py",
   "mimetype": "text/x-python",
   "name": "python",
   "nbconvert_exporter": "python",
   "pygments_lexer": "ipython3",
   "version": "3.8.10"
  }
 },
 "nbformat": 4,
 "nbformat_minor": 5
}
